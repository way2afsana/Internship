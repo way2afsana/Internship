{
 "cells": [
  {
   "cell_type": "markdown",
   "id": "d3a7c491",
   "metadata": {},
   "source": [
    "### Q1. Write a python program which searches all the product under a particular product from www.amazon.in. Theproduct to be searched will be taken as input from user. For e.g. If user input is ‘guitar’. Then search for guitars."
   ]
  },
  {
   "cell_type": "code",
   "execution_count": 10,
   "id": "01a32f81",
   "metadata": {
    "scrolled": true
   },
   "outputs": [
    {
     "name": "stdout",
     "output_type": "stream",
     "text": [
      "Requirement already satisfied: selenium in c:\\users\\future\\anaconda3\\lib\\site-packages (4.8.3)\n",
      "Requirement already satisfied: urllib3[socks]~=1.26 in c:\\users\\future\\anaconda3\\lib\\site-packages (from selenium) (1.26.14)\n",
      "Requirement already satisfied: trio~=0.17 in c:\\users\\future\\anaconda3\\lib\\site-packages (from selenium) (0.22.0)\n",
      "Requirement already satisfied: certifi>=2021.10.8 in c:\\users\\future\\anaconda3\\lib\\site-packages (from selenium) (2022.12.7)\n",
      "Requirement already satisfied: trio-websocket~=0.9 in c:\\users\\future\\anaconda3\\lib\\site-packages (from selenium) (0.10.2)\n",
      "Requirement already satisfied: sniffio in c:\\users\\future\\anaconda3\\lib\\site-packages (from trio~=0.17->selenium) (1.2.0)\n",
      "Requirement already satisfied: idna in c:\\users\\future\\anaconda3\\lib\\site-packages (from trio~=0.17->selenium) (3.4)\n",
      "Requirement already satisfied: attrs>=19.2.0 in c:\\users\\future\\anaconda3\\lib\\site-packages (from trio~=0.17->selenium) (22.1.0)\n",
      "Requirement already satisfied: async-generator>=1.9 in c:\\users\\future\\anaconda3\\lib\\site-packages (from trio~=0.17->selenium) (1.10)\n",
      "Requirement already satisfied: exceptiongroup>=1.0.0rc9 in c:\\users\\future\\anaconda3\\lib\\site-packages (from trio~=0.17->selenium) (1.1.1)\n",
      "Requirement already satisfied: cffi>=1.14 in c:\\users\\future\\anaconda3\\lib\\site-packages (from trio~=0.17->selenium) (1.15.1)\n",
      "Requirement already satisfied: sortedcontainers in c:\\users\\future\\anaconda3\\lib\\site-packages (from trio~=0.17->selenium) (2.4.0)\n",
      "Requirement already satisfied: outcome in c:\\users\\future\\anaconda3\\lib\\site-packages (from trio~=0.17->selenium) (1.2.0)\n",
      "Requirement already satisfied: wsproto>=0.14 in c:\\users\\future\\anaconda3\\lib\\site-packages (from trio-websocket~=0.9->selenium) (1.2.0)\n",
      "Requirement already satisfied: PySocks!=1.5.7,<2.0,>=1.5.6 in c:\\users\\future\\anaconda3\\lib\\site-packages (from urllib3[socks]~=1.26->selenium) (1.7.1)\n",
      "Requirement already satisfied: pycparser in c:\\users\\future\\anaconda3\\lib\\site-packages (from cffi>=1.14->trio~=0.17->selenium) (2.21)\n",
      "Requirement already satisfied: h11<1,>=0.9.0 in c:\\users\\future\\anaconda3\\lib\\site-packages (from wsproto>=0.14->trio-websocket~=0.9->selenium) (0.14.0)\n"
     ]
    }
   ],
   "source": [
    "!pip install selenium"
   ]
  },
  {
   "cell_type": "code",
   "execution_count": 11,
   "id": "96c0fdd0",
   "metadata": {},
   "outputs": [],
   "source": [
    "import selenium\n",
    "import pandas as pd\n",
    "from selenium import webdriver\n",
    "import warnings\n",
    "warnings.filterwarnings('ignore')\n",
    "from selenium.common.exceptions import NoSuchElementException\n",
    "from selenium.webdriver.common.by import By\n",
    "import time"
   ]
  },
  {
   "cell_type": "code",
   "execution_count": 12,
   "id": "b5c299a5",
   "metadata": {},
   "outputs": [],
   "source": [
    "driver=webdriver.Chrome(r\"C:\\Users\\Future\\Desktop\\Fliprobo Internship\\chromedriver.exe\")"
   ]
  },
  {
   "cell_type": "code",
   "execution_count": 13,
   "id": "e00106bb",
   "metadata": {},
   "outputs": [],
   "source": [
    "#Opening the given website on automated chrome browser\n",
    "url=\"https://www.amazon.in/\"\n",
    "driver.get(url)"
   ]
  },
  {
   "cell_type": "code",
   "execution_count": 14,
   "id": "7909cb10",
   "metadata": {},
   "outputs": [
    {
     "name": "stdout",
     "output_type": "stream",
     "text": [
      "Enter the title of Product in search :guitar\n"
     ]
    }
   ],
   "source": [
    "# Taking input from user about product search\n",
    "User_input=input('Enter the title of Product in search :')"
   ]
  },
  {
   "cell_type": "markdown",
   "id": "19d6de1f",
   "metadata": {},
   "source": [
    "### Q2. In the above question, now scrape the following details of each product listed in first 3 pages of your search results and save it in a data frame and csv. In case if any product vertical has less than 3 pages in search results then scrape all the products available under that product vertical. Details to be scraped are: \"Brand Name\", \"Name of the Product\", \"Rating\", \"No. of Ratings\", \"Price\", \"Return/Exchange\", \"Expected Delivery\", \"Availability\", \"Other Details\" and “Product URL”. In case, if any of the details are missing for any of the product then replace it by “-“"
   ]
  },
  {
   "cell_type": "code",
   "execution_count": 34,
   "id": "288b7548",
   "metadata": {},
   "outputs": [],
   "source": [
    "# Make Empty list to scrap data\n",
    "Brand =[]\n",
    "Product = []\n",
    "Rating =[]\n",
    "No_of_ratings =[]\n",
    "Price =[]\n",
    "Return =[]\n",
    "Excepted_delivery =[]\n",
    "Availability =[]\n",
    "Other_details =[]"
   ]
  },
  {
   "cell_type": "markdown",
   "id": "83f52048",
   "metadata": {},
   "source": [
    "#### @ Scraping url of all product listed on first 3 pages"
   ]
  },
  {
   "cell_type": "code",
   "execution_count": 35,
   "id": "cd0c7828",
   "metadata": {},
   "outputs": [],
   "source": [
    "driver=webdriver.Chrome(r\"C:\\Users\\Future\\Desktop\\Fliprobo Internship\\chromedriver.exe\")\n",
    "driver.get(\"https://www.amazon.in/\")"
   ]
  },
  {
   "cell_type": "code",
   "execution_count": 36,
   "id": "c7bfcf6f",
   "metadata": {},
   "outputs": [],
   "source": [
    "product=driver.find_element(By.XPATH,'//div[@class=\"nav-search-field \"]//input')\n",
    "product.send_keys('guitar')"
   ]
  },
  {
   "cell_type": "code",
   "execution_count": 37,
   "id": "2367c3e5",
   "metadata": {},
   "outputs": [],
   "source": [
    "search=driver.find_element(By.XPATH,'//div[@class=\"nav-search-submit nav-sprite\"]//span')\n",
    "search.click()\n",
    "time.sleep(3)"
   ]
  },
  {
   "cell_type": "code",
   "execution_count": 38,
   "id": "32873aa8",
   "metadata": {},
   "outputs": [],
   "source": [
    "#scrap all product urls\n",
    "product_urls= []\n",
    "start=0\n",
    "end=3\n",
    "# range(0,3) used to scrape three pages on website\n",
    "for page in range(start,end):\n",
    "    url=driver.find_elements(By.XPATH,'//a[@class=\"a-link-normal s-underline-text s-underline-link-text s-link-style a-text-normal\"]')\n",
    "    for i in url:\n",
    "        product_urls.append(i.get_attribute('href'))   #appending the urls in product_urls list\n",
    "    # locating next page button and clicking\n",
    "    Nxt_page=driver.find_element(By.XPATH,'//a[@class=\"s-pagination-item s-pagination-next s-pagination-button s-pagination-separator\"]')\n",
    "    Nxt_page.click()\n",
    "    time.sleep(3)"
   ]
  },
  {
   "cell_type": "code",
   "execution_count": 39,
   "id": "e292c38a",
   "metadata": {},
   "outputs": [],
   "source": [
    "for url in product_urls[:10]:\n",
    "    driver.get(url)\n",
    "    time.sleep(2)\n",
    "    \n",
    "    # Extracting Brand Name via Xpath\n",
    "    try:\n",
    "        brand=driver.find_element(By.XPATH,'//*[id=\"productOverview_feature_div\"]/div/table/tbody/tr[1]/td[2]/span')\n",
    "        Brand.append(brand.text) \n",
    "    except NoSuchElementException:\n",
    "        Brand.append('-')\n",
    "        \n",
    "    time.sleep(2)\n",
    "    \n",
    "    # Extracting product name via Xpath\n",
    "    try:\n",
    "        product =driver.find_element(By.XPATH,'//span[@id=\"productTitle\"]')\n",
    "        Product.append(product.text)\n",
    "    except NoSuchElementException:\n",
    "        Product.append('-')\n",
    "    time.sleep(2)\n",
    "    \n",
    "    # Extracting Rating via Xpath\n",
    "    try:\n",
    "        rating=driver.find_element(By.XPATH,'//span[@class=\"a-size-medium a-color-base\"]')\n",
    "        Rating.append(rating.text)\n",
    "    except NoSuchElementException:\n",
    "        Rating.append('-')\n",
    "    time.sleep(2)\n",
    "    \n",
    "    # Extracting No of Ratings via Xpath\n",
    "    try:\n",
    "        rating_count=driver.find_element(By.XPATH,'//span[@class=\"a-size-base a-color-secondary\"]')\n",
    "        No_of_ratings.append(rating_count.text)\n",
    "    except NoSuchElementException:\n",
    "        No_of_ratings.append('-')\n",
    "    time.sleep(2)\n",
    "    \n",
    "    # Extracting Price via Xpath\n",
    "    try:\n",
    "        price=driver.find_element(By.XPATH,'//span[@class=\"a-price aok-align-center\"]')\n",
    "        Price.append(price.text)\n",
    "    except NoSuchElementException:\n",
    "        Price.append('-')\n",
    "    time.sleep(2)\n",
    "    \n",
    "    # Extracting Return or exchange detail via Xpath\n",
    "    try:\n",
    "        replacement=driver.find_element(By.XPATH,'//*[@id=\"RETURNS_POLICY\"]/span/div[2]/a')\n",
    "        Return.append(replacement.text)\n",
    "    except NoSuchElementException:\n",
    "        Return.append('-')\n",
    "    time.sleep(2)\n",
    "    \n",
    "    # Extracting Expected Delivery via Xpath\n",
    "    try:\n",
    "        delivery=driver.find_element(By.XPATH,'//span[@class=\"ftCountdownClass a-color-success\"]')\n",
    "        Excepted_delivery.append(delivery.text)\n",
    "    except NoSuchElementException:\n",
    "        Excepted_delivery.append('-')\n",
    "    time.sleep(2)\n",
    "    \n",
    "    # Extracting Availability via Xath\n",
    "    try:\n",
    "        availability=driver.find_element(By.XPATH,'//span[@class=\"a-size-medium a-color-success\"]')\n",
    "        Availability.append(availability.text)\n",
    "    except NoSuchElementException:\n",
    "        Availability.append('-')\n",
    "    time.sleep(2)\n",
    "    \n",
    "    # Extracting other details via Xpath\n",
    "    try:\n",
    "        other=driver.find_element(By.XPATH,'//ul[@class=\"a-unordered-list a-vertical a-spacing-mini\"]')\n",
    "        Other_details.append(other.text)\n",
    "    except NoSuchElementException:\n",
    "        Other_details.append('-')\n",
    "    time.sleep(2)"
   ]
  },
  {
   "cell_type": "code",
   "execution_count": 40,
   "id": "706dde7d",
   "metadata": {
    "scrolled": true
   },
   "outputs": [
    {
     "ename": "ValueError",
     "evalue": "All arrays must be of the same length",
     "output_type": "error",
     "traceback": [
      "\u001b[1;31m---------------------------------------------------------------------------\u001b[0m",
      "\u001b[1;31mValueError\u001b[0m                                Traceback (most recent call last)",
      "Cell \u001b[1;32mIn[40], line 1\u001b[0m\n\u001b[1;32m----> 1\u001b[0m df\u001b[38;5;241m=\u001b[39m\u001b[43mpd\u001b[49m\u001b[38;5;241;43m.\u001b[39;49m\u001b[43mDataFrame\u001b[49m\u001b[43m(\u001b[49m\u001b[43m{\u001b[49m\u001b[38;5;124;43m'\u001b[39;49m\u001b[38;5;124;43mBRAND\u001b[39;49m\u001b[38;5;124;43m'\u001b[39;49m\u001b[43m:\u001b[49m\u001b[43mBrand\u001b[49m\u001b[43m,\u001b[49m\u001b[38;5;124;43m'\u001b[39;49m\u001b[38;5;124;43mPRODUCT\u001b[39;49m\u001b[38;5;124;43m'\u001b[39;49m\u001b[43m:\u001b[49m\u001b[43mProduct\u001b[49m\u001b[43m,\u001b[49m\u001b[38;5;124;43m'\u001b[39;49m\u001b[38;5;124;43mRATING\u001b[39;49m\u001b[38;5;124;43m'\u001b[39;49m\u001b[43m:\u001b[49m\u001b[43mRating\u001b[49m\u001b[43m,\u001b[49m\u001b[38;5;124;43m'\u001b[39;49m\u001b[38;5;124;43mNo. of Ratings\u001b[39;49m\u001b[38;5;124;43m'\u001b[39;49m\u001b[43m:\u001b[49m\u001b[43mNo_of_ratings\u001b[49m\u001b[43m,\u001b[49m\u001b[38;5;124;43m'\u001b[39;49m\u001b[38;5;124;43mPRICE\u001b[39;49m\u001b[38;5;124;43m'\u001b[39;49m\u001b[43m:\u001b[49m\u001b[43mPrice\u001b[49m\u001b[43m,\u001b[49m\u001b[38;5;124;43m'\u001b[39;49m\u001b[38;5;124;43mRETURN/EXCHANGE\u001b[39;49m\u001b[38;5;124;43m'\u001b[39;49m\u001b[43m:\u001b[49m\u001b[43mReturn\u001b[49m\u001b[43m,\u001b[49m\u001b[38;5;124;43m'\u001b[39;49m\u001b[38;5;124;43mExpected Delivery\u001b[39;49m\u001b[38;5;124;43m'\u001b[39;49m\u001b[43m:\u001b[49m\u001b[43mExcepted_delivery\u001b[49m\u001b[43m,\u001b[49m\u001b[38;5;124;43m'\u001b[39;49m\u001b[38;5;124;43mAVAILABILITY\u001b[39;49m\u001b[38;5;124;43m'\u001b[39;49m\u001b[43m:\u001b[49m\u001b[43mAvailability\u001b[49m\u001b[43m,\u001b[49m\u001b[38;5;124;43m'\u001b[39;49m\u001b[38;5;124;43mOther Details\u001b[39;49m\u001b[38;5;124;43m'\u001b[39;49m\u001b[43m:\u001b[49m\u001b[43mOther_details\u001b[49m\u001b[43m,\u001b[49m\u001b[38;5;124;43m'\u001b[39;49m\u001b[38;5;124;43mURLs\u001b[39;49m\u001b[38;5;124;43m'\u001b[39;49m\u001b[43m:\u001b[49m\u001b[43mproduct_urls\u001b[49m\u001b[43m}\u001b[49m\u001b[43m)\u001b[49m\n\u001b[0;32m      2\u001b[0m df\n",
      "File \u001b[1;32m~\\anaconda3\\lib\\site-packages\\pandas\\core\\frame.py:664\u001b[0m, in \u001b[0;36mDataFrame.__init__\u001b[1;34m(self, data, index, columns, dtype, copy)\u001b[0m\n\u001b[0;32m    658\u001b[0m     mgr \u001b[38;5;241m=\u001b[39m \u001b[38;5;28mself\u001b[39m\u001b[38;5;241m.\u001b[39m_init_mgr(\n\u001b[0;32m    659\u001b[0m         data, axes\u001b[38;5;241m=\u001b[39m{\u001b[38;5;124m\"\u001b[39m\u001b[38;5;124mindex\u001b[39m\u001b[38;5;124m\"\u001b[39m: index, \u001b[38;5;124m\"\u001b[39m\u001b[38;5;124mcolumns\u001b[39m\u001b[38;5;124m\"\u001b[39m: columns}, dtype\u001b[38;5;241m=\u001b[39mdtype, copy\u001b[38;5;241m=\u001b[39mcopy\n\u001b[0;32m    660\u001b[0m     )\n\u001b[0;32m    662\u001b[0m \u001b[38;5;28;01melif\u001b[39;00m \u001b[38;5;28misinstance\u001b[39m(data, \u001b[38;5;28mdict\u001b[39m):\n\u001b[0;32m    663\u001b[0m     \u001b[38;5;66;03m# GH#38939 de facto copy defaults to False only in non-dict cases\u001b[39;00m\n\u001b[1;32m--> 664\u001b[0m     mgr \u001b[38;5;241m=\u001b[39m \u001b[43mdict_to_mgr\u001b[49m\u001b[43m(\u001b[49m\u001b[43mdata\u001b[49m\u001b[43m,\u001b[49m\u001b[43m \u001b[49m\u001b[43mindex\u001b[49m\u001b[43m,\u001b[49m\u001b[43m \u001b[49m\u001b[43mcolumns\u001b[49m\u001b[43m,\u001b[49m\u001b[43m \u001b[49m\u001b[43mdtype\u001b[49m\u001b[38;5;241;43m=\u001b[39;49m\u001b[43mdtype\u001b[49m\u001b[43m,\u001b[49m\u001b[43m \u001b[49m\u001b[43mcopy\u001b[49m\u001b[38;5;241;43m=\u001b[39;49m\u001b[43mcopy\u001b[49m\u001b[43m,\u001b[49m\u001b[43m \u001b[49m\u001b[43mtyp\u001b[49m\u001b[38;5;241;43m=\u001b[39;49m\u001b[43mmanager\u001b[49m\u001b[43m)\u001b[49m\n\u001b[0;32m    665\u001b[0m \u001b[38;5;28;01melif\u001b[39;00m \u001b[38;5;28misinstance\u001b[39m(data, ma\u001b[38;5;241m.\u001b[39mMaskedArray):\n\u001b[0;32m    666\u001b[0m     \u001b[38;5;28;01mimport\u001b[39;00m \u001b[38;5;21;01mnumpy\u001b[39;00m\u001b[38;5;21;01m.\u001b[39;00m\u001b[38;5;21;01mma\u001b[39;00m\u001b[38;5;21;01m.\u001b[39;00m\u001b[38;5;21;01mmrecords\u001b[39;00m \u001b[38;5;28;01mas\u001b[39;00m \u001b[38;5;21;01mmrecords\u001b[39;00m\n",
      "File \u001b[1;32m~\\anaconda3\\lib\\site-packages\\pandas\\core\\internals\\construction.py:493\u001b[0m, in \u001b[0;36mdict_to_mgr\u001b[1;34m(data, index, columns, dtype, typ, copy)\u001b[0m\n\u001b[0;32m    489\u001b[0m     \u001b[38;5;28;01melse\u001b[39;00m:\n\u001b[0;32m    490\u001b[0m         \u001b[38;5;66;03m# dtype check to exclude e.g. range objects, scalars\u001b[39;00m\n\u001b[0;32m    491\u001b[0m         arrays \u001b[38;5;241m=\u001b[39m [x\u001b[38;5;241m.\u001b[39mcopy() \u001b[38;5;28;01mif\u001b[39;00m \u001b[38;5;28mhasattr\u001b[39m(x, \u001b[38;5;124m\"\u001b[39m\u001b[38;5;124mdtype\u001b[39m\u001b[38;5;124m\"\u001b[39m) \u001b[38;5;28;01melse\u001b[39;00m x \u001b[38;5;28;01mfor\u001b[39;00m x \u001b[38;5;129;01min\u001b[39;00m arrays]\n\u001b[1;32m--> 493\u001b[0m \u001b[38;5;28;01mreturn\u001b[39;00m \u001b[43marrays_to_mgr\u001b[49m\u001b[43m(\u001b[49m\u001b[43marrays\u001b[49m\u001b[43m,\u001b[49m\u001b[43m \u001b[49m\u001b[43mcolumns\u001b[49m\u001b[43m,\u001b[49m\u001b[43m \u001b[49m\u001b[43mindex\u001b[49m\u001b[43m,\u001b[49m\u001b[43m \u001b[49m\u001b[43mdtype\u001b[49m\u001b[38;5;241;43m=\u001b[39;49m\u001b[43mdtype\u001b[49m\u001b[43m,\u001b[49m\u001b[43m \u001b[49m\u001b[43mtyp\u001b[49m\u001b[38;5;241;43m=\u001b[39;49m\u001b[43mtyp\u001b[49m\u001b[43m,\u001b[49m\u001b[43m \u001b[49m\u001b[43mconsolidate\u001b[49m\u001b[38;5;241;43m=\u001b[39;49m\u001b[43mcopy\u001b[49m\u001b[43m)\u001b[49m\n",
      "File \u001b[1;32m~\\anaconda3\\lib\\site-packages\\pandas\\core\\internals\\construction.py:118\u001b[0m, in \u001b[0;36marrays_to_mgr\u001b[1;34m(arrays, columns, index, dtype, verify_integrity, typ, consolidate)\u001b[0m\n\u001b[0;32m    115\u001b[0m \u001b[38;5;28;01mif\u001b[39;00m verify_integrity:\n\u001b[0;32m    116\u001b[0m     \u001b[38;5;66;03m# figure out the index, if necessary\u001b[39;00m\n\u001b[0;32m    117\u001b[0m     \u001b[38;5;28;01mif\u001b[39;00m index \u001b[38;5;129;01mis\u001b[39;00m \u001b[38;5;28;01mNone\u001b[39;00m:\n\u001b[1;32m--> 118\u001b[0m         index \u001b[38;5;241m=\u001b[39m \u001b[43m_extract_index\u001b[49m\u001b[43m(\u001b[49m\u001b[43marrays\u001b[49m\u001b[43m)\u001b[49m\n\u001b[0;32m    119\u001b[0m     \u001b[38;5;28;01melse\u001b[39;00m:\n\u001b[0;32m    120\u001b[0m         index \u001b[38;5;241m=\u001b[39m ensure_index(index)\n",
      "File \u001b[1;32m~\\anaconda3\\lib\\site-packages\\pandas\\core\\internals\\construction.py:666\u001b[0m, in \u001b[0;36m_extract_index\u001b[1;34m(data)\u001b[0m\n\u001b[0;32m    664\u001b[0m lengths \u001b[38;5;241m=\u001b[39m \u001b[38;5;28mlist\u001b[39m(\u001b[38;5;28mset\u001b[39m(raw_lengths))\n\u001b[0;32m    665\u001b[0m \u001b[38;5;28;01mif\u001b[39;00m \u001b[38;5;28mlen\u001b[39m(lengths) \u001b[38;5;241m>\u001b[39m \u001b[38;5;241m1\u001b[39m:\n\u001b[1;32m--> 666\u001b[0m     \u001b[38;5;28;01mraise\u001b[39;00m \u001b[38;5;167;01mValueError\u001b[39;00m(\u001b[38;5;124m\"\u001b[39m\u001b[38;5;124mAll arrays must be of the same length\u001b[39m\u001b[38;5;124m\"\u001b[39m)\n\u001b[0;32m    668\u001b[0m \u001b[38;5;28;01mif\u001b[39;00m have_dicts:\n\u001b[0;32m    669\u001b[0m     \u001b[38;5;28;01mraise\u001b[39;00m \u001b[38;5;167;01mValueError\u001b[39;00m(\n\u001b[0;32m    670\u001b[0m         \u001b[38;5;124m\"\u001b[39m\u001b[38;5;124mMixing dicts with non-Series may lead to ambiguous ordering.\u001b[39m\u001b[38;5;124m\"\u001b[39m\n\u001b[0;32m    671\u001b[0m     )\n",
      "\u001b[1;31mValueError\u001b[0m: All arrays must be of the same length"
     ]
    }
   ],
   "source": [
    "df=pd.DataFrame({'BRAND':Brand,'PRODUCT':Product,'RATING':Rating,'No. of Ratings':No_of_ratings,'PRICE':Price,'RETURN/EXCHANGE':Return,'Expected Delivery':Excepted_delivery,'AVAILABILITY':Availability,'Other Details':Other_details,'URLs':product_urls})\n",
    "df"
   ]
  },
  {
   "cell_type": "markdown",
   "id": "bb8ff71b",
   "metadata": {},
   "source": [
    "### Q3. Write a python program to access the search bar and search button on images.google.com and scrape 100 images each for keywords ‘fruits’, ‘cars’ and ‘Machine Learning."
   ]
  },
  {
   "cell_type": "code",
   "execution_count": 46,
   "id": "acbe78fa",
   "metadata": {},
   "outputs": [],
   "source": [
    "import selenium\n",
    "import pandas as pd\n",
    "from selenium import webdriver\n",
    "import warnings\n",
    "warnings.filterwarnings('ignore')\n",
    "from selenium.common.exceptions import NoSuchElementException\n",
    "from selenium.webdriver.common.by import By\n",
    "import time"
   ]
  },
  {
   "cell_type": "code",
   "execution_count": 47,
   "id": "2a7a5850",
   "metadata": {},
   "outputs": [],
   "source": [
    "# Connecting to webdriver\n",
    "driver=webdriver.Chrome(r\"C:\\Users\\Future\\Desktop\\Fliprobo Internship\\chromedriver.exe\")\n",
    "time.sleep(1)\n",
    "\n",
    "# Opening url in Chrome browser\n",
    "url='https://images.google.com/'\n",
    "driver.get(url)"
   ]
  },
  {
   "cell_type": "markdown",
   "id": "ea534b17",
   "metadata": {},
   "source": [
    "#### @Searching and extracting for Fruits."
   ]
  },
  {
   "cell_type": "code",
   "execution_count": 48,
   "id": "baa77d7d",
   "metadata": {
    "scrolled": true
   },
   "outputs": [],
   "source": [
    "# Finding Search bar website\n",
    "Search=driver.find_element(By.XPATH,'//textarea[@class=\"gLFyf\"]')\n",
    "# Feeding input 'Fruits' in search bar\n",
    "Search.send_keys('Fruits')"
   ]
  },
  {
   "cell_type": "code",
   "execution_count": 51,
   "id": "6b8f91e1",
   "metadata": {},
   "outputs": [],
   "source": [
    "# Finding Search button for clicking\n",
    "sbutton=driver.find_element(By.XPATH,'//div[@class=\"zgAlFc\"]').click()\n"
   ]
  },
  {
   "cell_type": "code",
   "execution_count": 52,
   "id": "2e85bee1",
   "metadata": {},
   "outputs": [],
   "source": [
    "# Scrolling window using ScrollBy method from 0 pixel to 25000 pixel\n",
    "driver.execute_script(\"window.scrollBy(0,25000)\",\"\")"
   ]
  },
  {
   "cell_type": "code",
   "execution_count": 53,
   "id": "682ebdcf",
   "metadata": {},
   "outputs": [],
   "source": [
    "URL=[] \n",
    "images= driver.find_elements(By.XPATH,'//div[@class=\" bRMDJf islir\"]')\n",
    "for image in images:\n",
    "    source= image.get_attribute('src')\n",
    "    if source is not None:\n",
    "        if(source[0:4] == 'http'):\n",
    "            URL.append(source)"
   ]
  },
  {
   "cell_type": "code",
   "execution_count": 54,
   "id": "3169cd0a",
   "metadata": {},
   "outputs": [],
   "source": [
    "import requests"
   ]
  },
  {
   "cell_type": "code",
   "execution_count": 56,
   "id": "849702ee",
   "metadata": {
    "scrolled": true
   },
   "outputs": [
    {
     "name": "stdout",
     "output_type": "stream",
     "text": [
      "Downloading 0 of 100 images\n",
      "Downloading 1 of 100 images\n",
      "Downloading 2 of 100 images\n",
      "Downloading 3 of 100 images\n",
      "Downloading 4 of 100 images\n",
      "Downloading 5 of 100 images\n",
      "Downloading 6 of 100 images\n",
      "Downloading 7 of 100 images\n",
      "Downloading 8 of 100 images\n",
      "Downloading 9 of 100 images\n",
      "Downloading 10 of 100 images\n",
      "Downloading 11 of 100 images\n",
      "Downloading 12 of 100 images\n",
      "Downloading 13 of 100 images\n",
      "Downloading 14 of 100 images\n",
      "Downloading 15 of 100 images\n",
      "Downloading 16 of 100 images\n",
      "Downloading 17 of 100 images\n",
      "Downloading 18 of 100 images\n",
      "Downloading 19 of 100 images\n",
      "Downloading 20 of 100 images\n",
      "Downloading 21 of 100 images\n",
      "Downloading 22 of 100 images\n",
      "Downloading 23 of 100 images\n",
      "Downloading 24 of 100 images\n",
      "Downloading 25 of 100 images\n",
      "Downloading 26 of 100 images\n",
      "Downloading 27 of 100 images\n",
      "Downloading 28 of 100 images\n",
      "Downloading 29 of 100 images\n",
      "Downloading 30 of 100 images\n",
      "Downloading 31 of 100 images\n",
      "Downloading 32 of 100 images\n",
      "Downloading 33 of 100 images\n",
      "Downloading 34 of 100 images\n",
      "Downloading 35 of 100 images\n",
      "Downloading 36 of 100 images\n",
      "Downloading 37 of 100 images\n",
      "Downloading 38 of 100 images\n",
      "Downloading 39 of 100 images\n",
      "Downloading 40 of 100 images\n",
      "Downloading 41 of 100 images\n",
      "Downloading 42 of 100 images\n",
      "Downloading 43 of 100 images\n",
      "Downloading 44 of 100 images\n",
      "Downloading 45 of 100 images\n",
      "Downloading 46 of 100 images\n",
      "Downloading 47 of 100 images\n",
      "Downloading 48 of 100 images\n",
      "Downloading 49 of 100 images\n",
      "Downloading 50 of 100 images\n",
      "Downloading 51 of 100 images\n",
      "Downloading 52 of 100 images\n",
      "Downloading 53 of 100 images\n",
      "Downloading 54 of 100 images\n",
      "Downloading 55 of 100 images\n",
      "Downloading 56 of 100 images\n",
      "Downloading 57 of 100 images\n",
      "Downloading 58 of 100 images\n",
      "Downloading 59 of 100 images\n",
      "Downloading 60 of 100 images\n",
      "Downloading 61 of 100 images\n",
      "Downloading 62 of 100 images\n",
      "Downloading 63 of 100 images\n",
      "Downloading 64 of 100 images\n",
      "Downloading 65 of 100 images\n",
      "Downloading 66 of 100 images\n",
      "Downloading 67 of 100 images\n",
      "Downloading 68 of 100 images\n",
      "Downloading 69 of 100 images\n",
      "Downloading 70 of 100 images\n",
      "Downloading 71 of 100 images\n",
      "Downloading 72 of 100 images\n",
      "Downloading 73 of 100 images\n",
      "Downloading 74 of 100 images\n",
      "Downloading 75 of 100 images\n",
      "Downloading 76 of 100 images\n",
      "Downloading 77 of 100 images\n",
      "Downloading 78 of 100 images\n",
      "Downloading 79 of 100 images\n",
      "Downloading 80 of 100 images\n",
      "Downloading 81 of 100 images\n",
      "Downloading 82 of 100 images\n",
      "Downloading 83 of 100 images\n",
      "Downloading 84 of 100 images\n",
      "Downloading 85 of 100 images\n",
      "Downloading 86 of 100 images\n",
      "Downloading 87 of 100 images\n",
      "Downloading 88 of 100 images\n",
      "Downloading 89 of 100 images\n",
      "Downloading 90 of 100 images\n",
      "Downloading 91 of 100 images\n",
      "Downloading 92 of 100 images\n",
      "Downloading 93 of 100 images\n",
      "Downloading 94 of 100 images\n",
      "Downloading 95 of 100 images\n",
      "Downloading 96 of 100 images\n",
      "Downloading 97 of 100 images\n",
      "Downloading 98 of 100 images\n",
      "Downloading 99 of 100 images\n"
     ]
    }
   ],
   "source": [
    "for _ in range(20):\n",
    "    driver.execute_script(\"window.scrollBy(0,100)\")\n",
    "    \n",
    "images = driver.find_elements(By.XPATH,'//img[@class=\"rg_i Q4LuWd\"]')\n",
    "\n",
    "img_urls = []\n",
    "img_data = []\n",
    "for image in images:\n",
    "    source= image.get_attribute('src')\n",
    "    if source is not None:\n",
    "        if(source[0:4] == 'http'):\n",
    "            img_urls.append(source)\n",
    "            \n",
    "for i in range(len(img_urls)):\n",
    "    if i >= 100:\n",
    "        break\n",
    "    print(\"Downloading {0} of {1} images\" .format(i, 100))\n",
    "    response= requests.get(img_urls[i])\n",
    "    file = open(r\"C:\\Users\\Future\\Desktop\\Fliprobo Internship\\Fruits\"+str(i)+\".jpg\", \"wb\")\n",
    "    file.write(response.content)"
   ]
  },
  {
   "cell_type": "markdown",
   "id": "a8964d96",
   "metadata": {},
   "source": [
    "#### @Searching and extracting for Cars."
   ]
  },
  {
   "cell_type": "code",
   "execution_count": 60,
   "id": "19339868",
   "metadata": {},
   "outputs": [],
   "source": [
    "# Connecting to webdriver\n",
    "driver=webdriver.Chrome(r\"C:\\Users\\Future\\Desktop\\Fliprobo Internship\\chromedriver.exe\")\n",
    "time.sleep(1)\n",
    "\n",
    "# Opening url in Chrome browser\n",
    "url='https://images.google.com/'\n",
    "driver.get(url)"
   ]
  },
  {
   "cell_type": "code",
   "execution_count": 61,
   "id": "87594301",
   "metadata": {},
   "outputs": [],
   "source": [
    "# Finding Search bar website\n",
    "Search=driver.find_element(By.XPATH,'//textarea[@class=\"gLFyf\"]')\n",
    "# Feeding input 'Cars' in search bar\n",
    "Search.send_keys('Cars')"
   ]
  },
  {
   "cell_type": "code",
   "execution_count": 65,
   "id": "afcfa7bf",
   "metadata": {
    "scrolled": false
   },
   "outputs": [],
   "source": [
    "# Finding Search button for clicking\n",
    "sbutton=driver.find_element(By.XPATH,'//div[@class=\"zgAlFc\"]').click()"
   ]
  },
  {
   "cell_type": "code",
   "execution_count": 66,
   "id": "f8d62bfb",
   "metadata": {},
   "outputs": [],
   "source": [
    "# Scrolling window using ScrollBy method from 0 pixel to 25000 pixel\n",
    "driver.execute_script(\"window.scrollBy(0,50000)\",\"\")"
   ]
  },
  {
   "cell_type": "code",
   "execution_count": 67,
   "id": "19f5b1c8",
   "metadata": {},
   "outputs": [],
   "source": [
    "URL=[]\n",
    "images= driver.find_elements(By.XPATH,'//img[@class=\"rg_i Q4LuWd\"]')\n",
    "for image in images:\n",
    "    source= image.get_attribute('src')\n",
    "    if source is not None:\n",
    "        if(source[0:4] == 'http'):\n",
    "            URL.append(source)"
   ]
  },
  {
   "cell_type": "code",
   "execution_count": 68,
   "id": "aa901272",
   "metadata": {},
   "outputs": [],
   "source": [
    "import requests"
   ]
  },
  {
   "cell_type": "code",
   "execution_count": 71,
   "id": "161c6eca",
   "metadata": {
    "scrolled": true
   },
   "outputs": [
    {
     "name": "stdout",
     "output_type": "stream",
     "text": [
      "Downloading 0 of 100 images\n",
      "Downloading 1 of 100 images\n",
      "Downloading 2 of 100 images\n",
      "Downloading 3 of 100 images\n",
      "Downloading 4 of 100 images\n",
      "Downloading 5 of 100 images\n",
      "Downloading 6 of 100 images\n",
      "Downloading 7 of 100 images\n",
      "Downloading 8 of 100 images\n",
      "Downloading 9 of 100 images\n",
      "Downloading 10 of 100 images\n",
      "Downloading 11 of 100 images\n",
      "Downloading 12 of 100 images\n",
      "Downloading 13 of 100 images\n",
      "Downloading 14 of 100 images\n",
      "Downloading 15 of 100 images\n",
      "Downloading 16 of 100 images\n",
      "Downloading 17 of 100 images\n",
      "Downloading 18 of 100 images\n",
      "Downloading 19 of 100 images\n",
      "Downloading 20 of 100 images\n",
      "Downloading 21 of 100 images\n",
      "Downloading 22 of 100 images\n",
      "Downloading 23 of 100 images\n",
      "Downloading 24 of 100 images\n",
      "Downloading 25 of 100 images\n",
      "Downloading 26 of 100 images\n",
      "Downloading 27 of 100 images\n",
      "Downloading 28 of 100 images\n",
      "Downloading 29 of 100 images\n",
      "Downloading 30 of 100 images\n",
      "Downloading 31 of 100 images\n",
      "Downloading 32 of 100 images\n",
      "Downloading 33 of 100 images\n",
      "Downloading 34 of 100 images\n",
      "Downloading 35 of 100 images\n",
      "Downloading 36 of 100 images\n",
      "Downloading 37 of 100 images\n",
      "Downloading 38 of 100 images\n",
      "Downloading 39 of 100 images\n",
      "Downloading 40 of 100 images\n",
      "Downloading 41 of 100 images\n",
      "Downloading 42 of 100 images\n",
      "Downloading 43 of 100 images\n",
      "Downloading 44 of 100 images\n",
      "Downloading 45 of 100 images\n",
      "Downloading 46 of 100 images\n",
      "Downloading 47 of 100 images\n",
      "Downloading 48 of 100 images\n",
      "Downloading 49 of 100 images\n",
      "Downloading 50 of 100 images\n",
      "Downloading 51 of 100 images\n",
      "Downloading 52 of 100 images\n",
      "Downloading 53 of 100 images\n",
      "Downloading 54 of 100 images\n",
      "Downloading 55 of 100 images\n",
      "Downloading 56 of 100 images\n",
      "Downloading 57 of 100 images\n",
      "Downloading 58 of 100 images\n",
      "Downloading 59 of 100 images\n",
      "Downloading 60 of 100 images\n",
      "Downloading 61 of 100 images\n",
      "Downloading 62 of 100 images\n",
      "Downloading 63 of 100 images\n",
      "Downloading 64 of 100 images\n",
      "Downloading 65 of 100 images\n",
      "Downloading 66 of 100 images\n",
      "Downloading 67 of 100 images\n",
      "Downloading 68 of 100 images\n",
      "Downloading 69 of 100 images\n",
      "Downloading 70 of 100 images\n",
      "Downloading 71 of 100 images\n",
      "Downloading 72 of 100 images\n",
      "Downloading 73 of 100 images\n",
      "Downloading 74 of 100 images\n",
      "Downloading 75 of 100 images\n",
      "Downloading 76 of 100 images\n",
      "Downloading 77 of 100 images\n",
      "Downloading 78 of 100 images\n",
      "Downloading 79 of 100 images\n",
      "Downloading 80 of 100 images\n",
      "Downloading 81 of 100 images\n",
      "Downloading 82 of 100 images\n",
      "Downloading 83 of 100 images\n",
      "Downloading 84 of 100 images\n",
      "Downloading 85 of 100 images\n",
      "Downloading 86 of 100 images\n",
      "Downloading 87 of 100 images\n",
      "Downloading 88 of 100 images\n",
      "Downloading 89 of 100 images\n",
      "Downloading 90 of 100 images\n",
      "Downloading 91 of 100 images\n",
      "Downloading 92 of 100 images\n",
      "Downloading 93 of 100 images\n",
      "Downloading 94 of 100 images\n",
      "Downloading 95 of 100 images\n",
      "Downloading 96 of 100 images\n",
      "Downloading 97 of 100 images\n",
      "Downloading 98 of 100 images\n",
      "Downloading 99 of 100 images\n"
     ]
    }
   ],
   "source": [
    "for _ in range(100):\n",
    "    driver.execute_script(\"window.scrollBy(0,100)\")\n",
    "    \n",
    "images = driver.find_elements(By.XPATH,'//img[@class=\"rg_i Q4LuWd\"]')\n",
    "\n",
    "img_urls = []\n",
    "img_data = []\n",
    "for image in images:\n",
    "    source= image.get_attribute('src')\n",
    "    if source is not None:\n",
    "        if(source[0:4] == 'http'):\n",
    "            img_urls.append(source)\n",
    "            \n",
    "for i in range(len(img_urls)):\n",
    "    if i >= 100:\n",
    "        break\n",
    "    print(\"Downloading {0} of {1} images\" .format(i, 100))\n",
    "    response= requests.get(img_urls[i])\n",
    "    file = open(r\"C:\\Users\\Future\\Desktop\\Fliprobo Internship\\Fruits\"+str(i)+ \".jpg\", \"wb\")\n",
    "    file.write(response.content)"
   ]
  },
  {
   "cell_type": "markdown",
   "id": "2ef664d2",
   "metadata": {},
   "source": [
    "#### @Searching and extracting for Machine Learning"
   ]
  },
  {
   "cell_type": "code",
   "execution_count": 72,
   "id": "f6e1ee8f",
   "metadata": {},
   "outputs": [],
   "source": [
    "# Connecting to webdriver\n",
    "driver=webdriver.Chrome(r\"C:\\Users\\Future\\Desktop\\Fliprobo Internship\\chromedriver.exe\")\n",
    "time.sleep(1)\n",
    "\n",
    "# Opening url in Chrome browser\n",
    "url='https://images.google.com/'\n",
    "driver.get(url)"
   ]
  },
  {
   "cell_type": "code",
   "execution_count": 73,
   "id": "2cbd3542",
   "metadata": {
    "scrolled": true
   },
   "outputs": [],
   "source": [
    "# Finding Search bar website by class\n",
    "Search=driver.find_element(By.XPATH,'//textarea[@class=\"gLFyf\"]')\n",
    "# Feeding input 'Machine Learning' in search bar\n",
    "Search.send_keys('Machine Learning')"
   ]
  },
  {
   "cell_type": "code",
   "execution_count": 76,
   "id": "4c4a27a8",
   "metadata": {},
   "outputs": [],
   "source": [
    "# Finding Search button for clicking through class name\n",
    "Search_button=driver.find_element(By.XPATH,'//div[@class=\"zgAlFc\"]')\n",
    "# Clicking search button\n",
    "Search_button.click()"
   ]
  },
  {
   "cell_type": "code",
   "execution_count": 77,
   "id": "c9fc3843",
   "metadata": {},
   "outputs": [],
   "source": [
    "# Scrolling window using ScrollBy method from 0 pixel to 50000 pixel\n",
    "driver.execute_script(\"window.scrollBy(0,50000)\",\"\")"
   ]
  },
  {
   "cell_type": "code",
   "execution_count": 78,
   "id": "b3fa85db",
   "metadata": {},
   "outputs": [],
   "source": [
    "URL=[]\n",
    "images= driver.find_elements(By.XPATH,'//img[@class=\"rg_i Q4LuWd\"]')\n",
    "for image in images:\n",
    "    source= image.get_attribute('src')\n",
    "    if source is not None:\n",
    "        if(source[0:4] == 'http'):\n",
    "            URL.append(source)"
   ]
  },
  {
   "cell_type": "code",
   "execution_count": 80,
   "id": "eda688e5",
   "metadata": {
    "scrolled": true
   },
   "outputs": [
    {
     "name": "stdout",
     "output_type": "stream",
     "text": [
      "Downloading 0 of 100 images\n",
      "Downloading 1 of 100 images\n",
      "Downloading 2 of 100 images\n",
      "Downloading 3 of 100 images\n",
      "Downloading 4 of 100 images\n",
      "Downloading 5 of 100 images\n",
      "Downloading 6 of 100 images\n",
      "Downloading 7 of 100 images\n",
      "Downloading 8 of 100 images\n",
      "Downloading 9 of 100 images\n",
      "Downloading 10 of 100 images\n",
      "Downloading 11 of 100 images\n",
      "Downloading 12 of 100 images\n",
      "Downloading 13 of 100 images\n",
      "Downloading 14 of 100 images\n",
      "Downloading 15 of 100 images\n",
      "Downloading 16 of 100 images\n",
      "Downloading 17 of 100 images\n",
      "Downloading 18 of 100 images\n",
      "Downloading 19 of 100 images\n",
      "Downloading 20 of 100 images\n",
      "Downloading 21 of 100 images\n",
      "Downloading 22 of 100 images\n",
      "Downloading 23 of 100 images\n",
      "Downloading 24 of 100 images\n",
      "Downloading 25 of 100 images\n",
      "Downloading 26 of 100 images\n",
      "Downloading 27 of 100 images\n",
      "Downloading 28 of 100 images\n",
      "Downloading 29 of 100 images\n",
      "Downloading 30 of 100 images\n",
      "Downloading 31 of 100 images\n",
      "Downloading 32 of 100 images\n",
      "Downloading 33 of 100 images\n",
      "Downloading 34 of 100 images\n",
      "Downloading 35 of 100 images\n",
      "Downloading 36 of 100 images\n",
      "Downloading 37 of 100 images\n",
      "Downloading 38 of 100 images\n",
      "Downloading 39 of 100 images\n",
      "Downloading 40 of 100 images\n",
      "Downloading 41 of 100 images\n",
      "Downloading 42 of 100 images\n",
      "Downloading 43 of 100 images\n",
      "Downloading 44 of 100 images\n",
      "Downloading 45 of 100 images\n",
      "Downloading 46 of 100 images\n",
      "Downloading 47 of 100 images\n",
      "Downloading 48 of 100 images\n",
      "Downloading 49 of 100 images\n",
      "Downloading 50 of 100 images\n",
      "Downloading 51 of 100 images\n",
      "Downloading 52 of 100 images\n",
      "Downloading 53 of 100 images\n",
      "Downloading 54 of 100 images\n",
      "Downloading 55 of 100 images\n",
      "Downloading 56 of 100 images\n",
      "Downloading 57 of 100 images\n",
      "Downloading 58 of 100 images\n",
      "Downloading 59 of 100 images\n",
      "Downloading 60 of 100 images\n",
      "Downloading 61 of 100 images\n",
      "Downloading 62 of 100 images\n",
      "Downloading 63 of 100 images\n",
      "Downloading 64 of 100 images\n",
      "Downloading 65 of 100 images\n",
      "Downloading 66 of 100 images\n",
      "Downloading 67 of 100 images\n",
      "Downloading 68 of 100 images\n",
      "Downloading 69 of 100 images\n",
      "Downloading 70 of 100 images\n",
      "Downloading 71 of 100 images\n",
      "Downloading 72 of 100 images\n",
      "Downloading 73 of 100 images\n",
      "Downloading 74 of 100 images\n",
      "Downloading 75 of 100 images\n",
      "Downloading 76 of 100 images\n",
      "Downloading 77 of 100 images\n",
      "Downloading 78 of 100 images\n",
      "Downloading 79 of 100 images\n",
      "Downloading 80 of 100 images\n",
      "Downloading 81 of 100 images\n",
      "Downloading 82 of 100 images\n",
      "Downloading 83 of 100 images\n",
      "Downloading 84 of 100 images\n",
      "Downloading 85 of 100 images\n",
      "Downloading 86 of 100 images\n",
      "Downloading 87 of 100 images\n",
      "Downloading 88 of 100 images\n",
      "Downloading 89 of 100 images\n",
      "Downloading 90 of 100 images\n",
      "Downloading 91 of 100 images\n",
      "Downloading 92 of 100 images\n",
      "Downloading 93 of 100 images\n",
      "Downloading 94 of 100 images\n",
      "Downloading 95 of 100 images\n",
      "Downloading 96 of 100 images\n",
      "Downloading 97 of 100 images\n",
      "Downloading 98 of 100 images\n",
      "Downloading 99 of 100 images\n"
     ]
    }
   ],
   "source": [
    "for _ in range(20):\n",
    "    driver.execute_script(\"window.scrollBy(0,100)\")\n",
    "\n",
    "images = driver.find_elements(By.XPATH,'//img[@class=\"rg_i Q4LuWd\"]')\n",
    "\n",
    "img_urls = []\n",
    "img_data = []\n",
    "for image in images:\n",
    "    source= image.get_attribute('src')\n",
    "    if source is not None:\n",
    "        if(source[0:4] == 'http'):\n",
    "            img_urls.append(source)\n",
    "            \n",
    "for i in range(len(img_urls)):\n",
    "    if i >= 100:\n",
    "        break\n",
    "    print(\"Downloading {0} of {1} images\" .format(i, 100))\n",
    "    response= requests.get(img_urls[i])\n",
    "    file = open(r\"C:\\Users\\Future\\Desktop\\Fliprobo Internship\\Machine Learning\"+str(i)+\".jpg\", \"wb\")\n",
    "    file.write(response.content)"
   ]
  },
  {
   "cell_type": "markdown",
   "id": "c2aa6067",
   "metadata": {},
   "source": [
    "### Q4. Write a python program to search for a smartphone(e.g.: Oneplus Nord, pixel 4A, etc.) on www.flipkart.com and scrape following details for all the search results displayed on 1st page. Details to be scraped: “Brand Name”, “Smartphone name”, “Colour”, “RAM”, “Storage(ROM)”, “Primary Camera”, “Secondary Camera”, “Display Size”, “Battery Capacity”, “Price”, “Product URL”. Incase if any of the details is missing then replace it by “- “.Save your results in a dataframe and CSV. "
   ]
  },
  {
   "cell_type": "code",
   "execution_count": 81,
   "id": "13f1a68a",
   "metadata": {},
   "outputs": [],
   "source": [
    "# Importing require libary\n",
    "import selenium\n",
    "import pandas as pd\n",
    "from selenium import webdriver\n",
    "from selenium.common.exceptions import NoSuchElementException\n",
    "import time\n",
    "\n",
    "# Connecting to webdriver\n",
    "driver=webdriver.Chrome(r\"C:\\Users\\Future\\Desktop\\Fliprobo Internship\\chromedriver.exe\")\n",
    "time.sleep(1)\n",
    "\n",
    "# Opening url in Chrome browser\n",
    "url='http://www.flipkart.com/'\n",
    "driver.get(url)\n",
    "time.sleep(3)\n",
    "\n",
    "try:\n",
    "    login_window = driver.find_element(By.XPATH,'//button[@class=\"_2KpZ6l _2doB4z\"]')\n",
    "    login_window.click()\n",
    "except NoSuchElementException:\n",
    "    print('Login Window is not present')"
   ]
  },
  {
   "cell_type": "code",
   "execution_count": 82,
   "id": "005cc498",
   "metadata": {},
   "outputs": [],
   "source": [
    "# Finding Search bar website by xpath\n",
    "Search=driver.find_element(By.XPATH,'//div[@class=\"_3OO5Xc\"]/input')\n",
    "# Clearing any previous input in search bar\n",
    "Search.clear()\n",
    "# Feeding input 'Oneplus' in search bar\n",
    "Search.send_keys('Iphone Mobile')\n",
    "# Finding Search button for clicking through class name\n",
    "Search_button=driver.find_element(By.XPATH,'//button[@class=\"L0Z3Pu\"]')\n",
    "# Clicking search button\n",
    "Search_button.click()"
   ]
  },
  {
   "cell_type": "code",
   "execution_count": 83,
   "id": "57557c3a",
   "metadata": {},
   "outputs": [],
   "source": [
    "# Making empty list to scrape data\n",
    "Brand =[]\n",
    "Smartphone =[]\n",
    "Colour =[]\n",
    "Storage_Rom =[]\n",
    "Primary_camera=[]\n",
    "Secondary_camera=[]\n",
    "Display_size=[]\n",
    "Display_resolution=[]\n",
    "Processor =[]\n",
    "Processor_cores=[]\n",
    "Battery_capacity=[]\n",
    "Price =[]"
   ]
  },
  {
   "cell_type": "code",
   "execution_count": 84,
   "id": "5f57f3ff",
   "metadata": {},
   "outputs": [],
   "source": [
    "URL=[]\n",
    "url=driver.find_elements(By.XPATH,'//a[@class=\"_1fQZEK\"]')\n",
    "for i in url:\n",
    "    Href=i.get_attribute('href')\n",
    "    URL.append(Href)"
   ]
  },
  {
   "cell_type": "code",
   "execution_count": 85,
   "id": "6b924e48",
   "metadata": {},
   "outputs": [
    {
     "data": {
      "text/plain": [
       "24"
      ]
     },
     "execution_count": 85,
     "metadata": {},
     "output_type": "execute_result"
    }
   ],
   "source": [
    "len(URL)"
   ]
  },
  {
   "cell_type": "code",
   "execution_count": 86,
   "id": "032ac38a",
   "metadata": {},
   "outputs": [
    {
     "name": "stderr",
     "output_type": "stream",
     "text": [
      "100%|██████████████████████████████████████████████████████████████████████████████████| 24/24 [04:10<00:00, 10.46s/it]\n"
     ]
    }
   ],
   "source": [
    "from tqdm import tqdm\n",
    "for i in tqdm(URL):\n",
    "    driver.get(i)\n",
    "    time.sleep(3)\n",
    "    \n",
    "    # Expanding specification table by clicking on read more button\n",
    "    try:\n",
    "        Read_more=driver.find_element(By.XPATH,'//button[@class=\"_2KpZ6l _1FH0tX\"]')\n",
    "        Read_more.click()\n",
    "        \n",
    "    except NoSuchElementException:\n",
    "        print('NoSuchElementException Occur')\n",
    "        pass\n",
    "    \n",
    "    # Extracting Brand Name via Xpath\n",
    "    try:\n",
    "        brand=driver.find_element(By.XPATH,'//span[@class=\"B_NuCI\"]')\n",
    "        Brand.append(brand.text.split()[0])\n",
    "    \n",
    "    except NoSuchElementException:\n",
    "        Brand.append('-')\n",
    "        \n",
    "    # Extracting Smartphone Model via Xpath\n",
    "    try:\n",
    "        smartphone=driver.find_element(By.XPATH,'//div[@class=\"_3k-BhJ\"][1]/table/tbody/tr[3]/td[2]/ul/li')\n",
    "        Smartphone.append(smartphone.text)\n",
    "    \n",
    "    except NoSuchElementException:\n",
    "        Smartphone.append('-')\n",
    "        \n",
    "    # Extracting Colour via Xpath\n",
    "    try:\n",
    "        colour=driver.find_element(By.XPATH,'//div[@class=\"_3k-BhJ\"][1]/table/tbody/tr[4]/td[2]/ul/li')\n",
    "        Colour.append(colour.text)\n",
    "    \n",
    "    except NoSuchElementException:\n",
    "        Colour.append('-')\n",
    "    \n",
    "    # Extracting Storage Rom via Xpath\n",
    "    try:\n",
    "        Rom=driver.find_element(By.XPATH,'//div[@class=\"_3k-BhJ\"][4]/table/tbody/tr[1]/td[2]/ul/li')\n",
    "        Storage_Rom.append(Rom.text)\n",
    "        \n",
    "    except NoSuchElementException:\n",
    "        Storage_Rom.append('Not Mention')\n",
    "        \n",
    "    # Extracting primary camera detail via Xpath\n",
    "    try:\n",
    "        primary_camera=driver.find_element(By.XPATH,'//div[@class=\"_3k-BhJ\"][5]/table/tbody/tr[2]/td[2]/ul/li')\n",
    "        Primary_camera.append(primary_camera.text)\n",
    "    \n",
    "    except NoSuchElementException:\n",
    "        Primary_camera.append('Not Mention')\n",
    "        \n",
    "    # Extracting Secondary Camera detail via Xpath\n",
    "    try:\n",
    "        secondary_cam=driver.find_element(By.XPATH,'//div[@class=\"_3k-BhJ\"][5]/table/tbody/tr[5]/td[2]/ul/li')\n",
    "        Secondary_camera.append(secondary_cam.text)\n",
    "    \n",
    "    except NoSuchElementException:\n",
    "        Secondary_camera.append('Not Mention')\n",
    "    \n",
    "    # Extracting Display size via Xpath\n",
    "    try:\n",
    "        display=driver.find_element(By.XPATH,'//div[@class=\"_3k-BhJ\"][2]/table/tbody/tr[1]/td[2]/ul/li')\n",
    "        Display_size.append(display.text)\n",
    "    except NoSuchElementException:\n",
    "        Display_size.append('-')\n",
    "    \n",
    "    # Extracting Display Resolution via Xpath\n",
    "    try:\n",
    "        resolution=driver.find_element(By.XPATH,'//div[@class=\"_3k-BhJ\"][2]/table/tbody/tr[2]/td[2]/ul/li')\n",
    "        Display_resolution.append(resolution.text)\n",
    "    except NoSuchElementException:\n",
    "        Display_resolution.append('-')\n",
    "    \n",
    "    # Extracting processor detail via xpath\n",
    "    try:\n",
    "        processor=driver.find_element(By.XPATH,'//div[@class=\"_3k-BhJ\"][3]/table/tbody/tr[2]/td[2]/ul/li')\n",
    "        Processor.append(processor.text)\n",
    "    \n",
    "    except NoSuchElementException:\n",
    "        Processor.append('-')\n",
    "        \n",
    "    # Extracting Processor core via xpath\n",
    "    try:\n",
    "        core=driver.find_element(By.XPATH,'//div[@class=\"_3k-BhJ\"][3]/table/tbody/tr[3]/td[2]/ul/li')\n",
    "        Processor_cores.append(core.text)\n",
    "    except NoSuchElementException:\n",
    "        Processor_cores.append('Not Mention')\n",
    "    \n",
    "    #Extracting Price via X path\n",
    "    try:\n",
    "        price=driver.find_element(By.XPATH,'//div[@class=\"_30jeq3 _16Jk6d\"]')\n",
    "        Price.append(price.text)\n",
    "    except NoSuchElementException:\n",
    "        Price.append('Not Mention')"
   ]
  },
  {
   "cell_type": "code",
   "execution_count": 87,
   "id": "7962c149",
   "metadata": {},
   "outputs": [
    {
     "name": "stdout",
     "output_type": "stream",
     "text": [
      "\u001b[1mFlipkart Iphone Models :\u001b[0m\n"
     ]
    },
    {
     "data": {
      "text/html": [
       "<div>\n",
       "<style scoped>\n",
       "    .dataframe tbody tr th:only-of-type {\n",
       "        vertical-align: middle;\n",
       "    }\n",
       "\n",
       "    .dataframe tbody tr th {\n",
       "        vertical-align: top;\n",
       "    }\n",
       "\n",
       "    .dataframe thead th {\n",
       "        text-align: right;\n",
       "    }\n",
       "</style>\n",
       "<table border=\"1\" class=\"dataframe\">\n",
       "  <thead>\n",
       "    <tr style=\"text-align: right;\">\n",
       "      <th></th>\n",
       "      <th>Brand</th>\n",
       "      <th>Smartphone</th>\n",
       "      <th>Colour</th>\n",
       "      <th>Price</th>\n",
       "      <th>Storage Rom</th>\n",
       "      <th>Primary Camera</th>\n",
       "      <th>Display Size</th>\n",
       "      <th>Display Resolution</th>\n",
       "      <th>Processor</th>\n",
       "      <th>Processor Cores</th>\n",
       "    </tr>\n",
       "  </thead>\n",
       "  <tbody>\n",
       "    <tr>\n",
       "      <th>0</th>\n",
       "      <td>APPLE</td>\n",
       "      <td>iPhone 13</td>\n",
       "      <td>Midnight</td>\n",
       "      <td>₹61,999</td>\n",
       "      <td>128 GB</td>\n",
       "      <td>12MP + 12MP</td>\n",
       "      <td>15.49 cm (6.1 inch)</td>\n",
       "      <td>2532 x 1170 Pixels</td>\n",
       "      <td>A15 Bionic Chip</td>\n",
       "      <td>Hexa Core</td>\n",
       "    </tr>\n",
       "    <tr>\n",
       "      <th>1</th>\n",
       "      <td>APPLE</td>\n",
       "      <td>iPhone 13</td>\n",
       "      <td>Pink</td>\n",
       "      <td>₹61,999</td>\n",
       "      <td>128 GB</td>\n",
       "      <td>12MP + 12MP</td>\n",
       "      <td>15.49 cm (6.1 inch)</td>\n",
       "      <td>2532 x 1170 Pixels</td>\n",
       "      <td>A15 Bionic Chip</td>\n",
       "      <td>Hexa Core</td>\n",
       "    </tr>\n",
       "    <tr>\n",
       "      <th>2</th>\n",
       "      <td>APPLE</td>\n",
       "      <td>iPhone 13</td>\n",
       "      <td>Green</td>\n",
       "      <td>₹61,999</td>\n",
       "      <td>128 GB</td>\n",
       "      <td>12MP + 12MP</td>\n",
       "      <td>15.49 cm (6.1 inch)</td>\n",
       "      <td>2532 x 1170 Pixels</td>\n",
       "      <td>A15 Bionic Chip</td>\n",
       "      <td>Hexa Core</td>\n",
       "    </tr>\n",
       "    <tr>\n",
       "      <th>3</th>\n",
       "      <td>APPLE</td>\n",
       "      <td>iPhone 13</td>\n",
       "      <td>Blue</td>\n",
       "      <td>₹61,999</td>\n",
       "      <td>128 GB</td>\n",
       "      <td>12MP + 12MP</td>\n",
       "      <td>15.49 cm (6.1 inch)</td>\n",
       "      <td>2532 x 1170 Pixels</td>\n",
       "      <td>A15 Bionic Chip</td>\n",
       "      <td>Hexa Core</td>\n",
       "    </tr>\n",
       "    <tr>\n",
       "      <th>4</th>\n",
       "      <td>APPLE</td>\n",
       "      <td>iPhone 13</td>\n",
       "      <td>Starlight</td>\n",
       "      <td>₹61,999</td>\n",
       "      <td>128 GB</td>\n",
       "      <td>12MP + 12MP</td>\n",
       "      <td>15.49 cm (6.1 inch)</td>\n",
       "      <td>2532 x 1170 Pixels</td>\n",
       "      <td>A15 Bionic Chip</td>\n",
       "      <td>Hexa Core</td>\n",
       "    </tr>\n",
       "    <tr>\n",
       "      <th>5</th>\n",
       "      <td>APPLE</td>\n",
       "      <td>-</td>\n",
       "      <td>-</td>\n",
       "      <td>₹44,999</td>\n",
       "      <td>iOS 14.2</td>\n",
       "      <td>Not Mention</td>\n",
       "      <td>iPhone, USB-C to Lightning Cable, Documentation</td>\n",
       "      <td>MHDH3HN/A</td>\n",
       "      <td>1792 x 828 Pixels</td>\n",
       "      <td>Liquid Retina HD Display</td>\n",
       "    </tr>\n",
       "    <tr>\n",
       "      <th>6</th>\n",
       "      <td>APPLE</td>\n",
       "      <td>-</td>\n",
       "      <td>-</td>\n",
       "      <td>₹44,999</td>\n",
       "      <td>iOS 14.2</td>\n",
       "      <td>Not Mention</td>\n",
       "      <td>iPhone, USB-C to Lightning Cable, Documentation</td>\n",
       "      <td>MHDJ3HN/A</td>\n",
       "      <td>1792 x 828 Pixels</td>\n",
       "      <td>Liquid Retina HD Display</td>\n",
       "    </tr>\n",
       "    <tr>\n",
       "      <th>7</th>\n",
       "      <td>APPLE</td>\n",
       "      <td>iPhone 14</td>\n",
       "      <td>Midnight</td>\n",
       "      <td>₹71,999</td>\n",
       "      <td>128 GB</td>\n",
       "      <td>12MP + 12MP</td>\n",
       "      <td>15.49 cm (6.1 inch)</td>\n",
       "      <td>2532 x 1170 Pixels</td>\n",
       "      <td>A15 Bionic Chip, 6 Core Processor</td>\n",
       "      <td>Hexa Core</td>\n",
       "    </tr>\n",
       "    <tr>\n",
       "      <th>8</th>\n",
       "      <td>APPLE</td>\n",
       "      <td>iPhone 14</td>\n",
       "      <td>Midnight</td>\n",
       "      <td>₹81,999</td>\n",
       "      <td>256 GB</td>\n",
       "      <td>12MP + 12MP</td>\n",
       "      <td>15.49 cm (6.1 inch)</td>\n",
       "      <td>2532 x 1170 Pixels</td>\n",
       "      <td>A15 Bionic Chip, 6 Core Processor</td>\n",
       "      <td>Hexa Core</td>\n",
       "    </tr>\n",
       "    <tr>\n",
       "      <th>9</th>\n",
       "      <td>APPLE</td>\n",
       "      <td>iPhone 14</td>\n",
       "      <td>(PRODUCT)RED</td>\n",
       "      <td>₹69,999</td>\n",
       "      <td>128 GB</td>\n",
       "      <td>12MP + 12MP</td>\n",
       "      <td>15.49 cm (6.1 inch)</td>\n",
       "      <td>2532 x 1170 Pixels</td>\n",
       "      <td>A15 Bionic Chip, 6 Core Processor</td>\n",
       "      <td>Hexa Core</td>\n",
       "    </tr>\n",
       "    <tr>\n",
       "      <th>10</th>\n",
       "      <td>APPLE</td>\n",
       "      <td>iPhone 14</td>\n",
       "      <td>Blue</td>\n",
       "      <td>₹71,999</td>\n",
       "      <td>128 GB</td>\n",
       "      <td>12MP + 12MP</td>\n",
       "      <td>15.49 cm (6.1 inch)</td>\n",
       "      <td>2532 x 1170 Pixels</td>\n",
       "      <td>A15 Bionic Chip, 6 Core Processor</td>\n",
       "      <td>Hexa Core</td>\n",
       "    </tr>\n",
       "    <tr>\n",
       "      <th>11</th>\n",
       "      <td>APPLE</td>\n",
       "      <td>iPhone 14 Plus</td>\n",
       "      <td>Purple</td>\n",
       "      <td>₹79,999</td>\n",
       "      <td>128 GB</td>\n",
       "      <td>12MP + 12MP</td>\n",
       "      <td>17.02 cm (6.7 inch)</td>\n",
       "      <td>2778 x 1284 Pixels</td>\n",
       "      <td>A15 Bionic Chip, 6 Core Processor</td>\n",
       "      <td>Hexa Core</td>\n",
       "    </tr>\n",
       "    <tr>\n",
       "      <th>12</th>\n",
       "      <td>APPLE</td>\n",
       "      <td>iPhone 14 Plus</td>\n",
       "      <td>Blue</td>\n",
       "      <td>₹79,999</td>\n",
       "      <td>128 GB</td>\n",
       "      <td>12MP + 12MP</td>\n",
       "      <td>17.02 cm (6.7 inch)</td>\n",
       "      <td>2778 x 1284 Pixels</td>\n",
       "      <td>A15 Bionic Chip, 6 Core Processor</td>\n",
       "      <td>Hexa Core</td>\n",
       "    </tr>\n",
       "    <tr>\n",
       "      <th>13</th>\n",
       "      <td>APPLE</td>\n",
       "      <td>-</td>\n",
       "      <td>-</td>\n",
       "      <td>₹40,999</td>\n",
       "      <td>iOS 14.2</td>\n",
       "      <td>Not Mention</td>\n",
       "      <td>iPhone, USB-C to Lightning Cable, Documentation</td>\n",
       "      <td>MHDC3HN/A</td>\n",
       "      <td>1792 x 828 Pixels</td>\n",
       "      <td>Liquid Retina HD Display</td>\n",
       "    </tr>\n",
       "    <tr>\n",
       "      <th>14</th>\n",
       "      <td>APPLE</td>\n",
       "      <td>iPhone 14 Plus</td>\n",
       "      <td>Starlight</td>\n",
       "      <td>₹79,999</td>\n",
       "      <td>128 GB</td>\n",
       "      <td>12MP + 12MP</td>\n",
       "      <td>17.02 cm (6.7 inch)</td>\n",
       "      <td>2778 x 1284 Pixels</td>\n",
       "      <td>A15 Bionic Chip, 6 Core Processor</td>\n",
       "      <td>Hexa Core</td>\n",
       "    </tr>\n",
       "    <tr>\n",
       "      <th>15</th>\n",
       "      <td>APPLE</td>\n",
       "      <td>iPhone 14</td>\n",
       "      <td>Purple</td>\n",
       "      <td>₹81,999</td>\n",
       "      <td>256 GB</td>\n",
       "      <td>12MP + 12MP</td>\n",
       "      <td>15.49 cm (6.1 inch)</td>\n",
       "      <td>2532 x 1170 Pixels</td>\n",
       "      <td>A15 Bionic Chip, 6 Core Processor</td>\n",
       "      <td>Hexa Core</td>\n",
       "    </tr>\n",
       "    <tr>\n",
       "      <th>16</th>\n",
       "      <td>APPLE</td>\n",
       "      <td>iPhone 14 Plus</td>\n",
       "      <td>(PRODUCT)RED</td>\n",
       "      <td>₹77,999</td>\n",
       "      <td>128 GB</td>\n",
       "      <td>12MP + 12MP</td>\n",
       "      <td>17.02 cm (6.7 inch)</td>\n",
       "      <td>2778 x 1284 Pixels</td>\n",
       "      <td>A15 Bionic Chip, 6 Core Processor</td>\n",
       "      <td>Hexa Core</td>\n",
       "    </tr>\n",
       "    <tr>\n",
       "      <th>17</th>\n",
       "      <td>APPLE</td>\n",
       "      <td>iPhone 14</td>\n",
       "      <td>Blue</td>\n",
       "      <td>₹81,999</td>\n",
       "      <td>256 GB</td>\n",
       "      <td>12MP + 12MP</td>\n",
       "      <td>15.49 cm (6.1 inch)</td>\n",
       "      <td>2532 x 1170 Pixels</td>\n",
       "      <td>A15 Bionic Chip, 6 Core Processor</td>\n",
       "      <td>Hexa Core</td>\n",
       "    </tr>\n",
       "    <tr>\n",
       "      <th>18</th>\n",
       "      <td>APPLE</td>\n",
       "      <td>iPhone 13</td>\n",
       "      <td>(PRODUCT)RED</td>\n",
       "      <td>₹61,999</td>\n",
       "      <td>128 GB</td>\n",
       "      <td>12MP + 12MP</td>\n",
       "      <td>15.49 cm (6.1 inch)</td>\n",
       "      <td>2532 x 1170 Pixels</td>\n",
       "      <td>A15 Bionic Chip</td>\n",
       "      <td>Hexa Core</td>\n",
       "    </tr>\n",
       "    <tr>\n",
       "      <th>19</th>\n",
       "      <td>APPLE</td>\n",
       "      <td>iPhone 14 Pro</td>\n",
       "      <td>Space Black</td>\n",
       "      <td>₹1,19,999</td>\n",
       "      <td>128 GB</td>\n",
       "      <td>48MP + 12MP + 12MP</td>\n",
       "      <td>15.49 cm (6.1 inch)</td>\n",
       "      <td>2556 x 1179 Pixels</td>\n",
       "      <td>A16 Bionic Chip, 6 Core Processor</td>\n",
       "      <td>Hexa Core</td>\n",
       "    </tr>\n",
       "    <tr>\n",
       "      <th>20</th>\n",
       "      <td>APPLE</td>\n",
       "      <td>-</td>\n",
       "      <td>-</td>\n",
       "      <td>₹40,999</td>\n",
       "      <td>iOS 14.2</td>\n",
       "      <td>Not Mention</td>\n",
       "      <td>iPhone, USB-C to Lightning Cable, Documentation</td>\n",
       "      <td>MHDA3HN/A</td>\n",
       "      <td>1792 x 828 Pixels</td>\n",
       "      <td>Liquid Retina HD Display</td>\n",
       "    </tr>\n",
       "    <tr>\n",
       "      <th>21</th>\n",
       "      <td>APPLE</td>\n",
       "      <td>iPhone 14</td>\n",
       "      <td>Starlight</td>\n",
       "      <td>₹71,999</td>\n",
       "      <td>128 GB</td>\n",
       "      <td>12MP + 12MP</td>\n",
       "      <td>15.49 cm (6.1 inch)</td>\n",
       "      <td>2532 x 1170 Pixels</td>\n",
       "      <td>A15 Bionic Chip, 6 Core Processor</td>\n",
       "      <td>Hexa Core</td>\n",
       "    </tr>\n",
       "    <tr>\n",
       "      <th>22</th>\n",
       "      <td>APPLE</td>\n",
       "      <td>iPhone 14</td>\n",
       "      <td>Yellow</td>\n",
       "      <td>₹71,999</td>\n",
       "      <td>128 GB</td>\n",
       "      <td>12MP + 12MP</td>\n",
       "      <td>15.49 cm (6.1 inch)</td>\n",
       "      <td>2532 x 1170 Pixels</td>\n",
       "      <td>A15 Bionic Chip, 6 Core Processor</td>\n",
       "      <td>Hexa Core</td>\n",
       "    </tr>\n",
       "    <tr>\n",
       "      <th>23</th>\n",
       "      <td>APPLE</td>\n",
       "      <td>iPhone 13</td>\n",
       "      <td>Midnight</td>\n",
       "      <td>₹71,999</td>\n",
       "      <td>256 GB</td>\n",
       "      <td>12MP + 12MP</td>\n",
       "      <td>15.49 cm (6.1 inch)</td>\n",
       "      <td>2532 x 1170 Pixels</td>\n",
       "      <td>A15 Bionic Chip</td>\n",
       "      <td>Hexa Core</td>\n",
       "    </tr>\n",
       "  </tbody>\n",
       "</table>\n",
       "</div>"
      ],
      "text/plain": [
       "    Brand      Smartphone        Colour      Price Storage Rom  \\\n",
       "0   APPLE       iPhone 13      Midnight    ₹61,999      128 GB   \n",
       "1   APPLE       iPhone 13          Pink    ₹61,999      128 GB   \n",
       "2   APPLE       iPhone 13         Green    ₹61,999      128 GB   \n",
       "3   APPLE       iPhone 13          Blue    ₹61,999      128 GB   \n",
       "4   APPLE       iPhone 13     Starlight    ₹61,999      128 GB   \n",
       "5   APPLE               -             -    ₹44,999    iOS 14.2   \n",
       "6   APPLE               -             -    ₹44,999    iOS 14.2   \n",
       "7   APPLE       iPhone 14      Midnight    ₹71,999      128 GB   \n",
       "8   APPLE       iPhone 14      Midnight    ₹81,999      256 GB   \n",
       "9   APPLE       iPhone 14  (PRODUCT)RED    ₹69,999      128 GB   \n",
       "10  APPLE       iPhone 14          Blue    ₹71,999      128 GB   \n",
       "11  APPLE  iPhone 14 Plus        Purple    ₹79,999      128 GB   \n",
       "12  APPLE  iPhone 14 Plus          Blue    ₹79,999      128 GB   \n",
       "13  APPLE               -             -    ₹40,999    iOS 14.2   \n",
       "14  APPLE  iPhone 14 Plus     Starlight    ₹79,999      128 GB   \n",
       "15  APPLE       iPhone 14        Purple    ₹81,999      256 GB   \n",
       "16  APPLE  iPhone 14 Plus  (PRODUCT)RED    ₹77,999      128 GB   \n",
       "17  APPLE       iPhone 14          Blue    ₹81,999      256 GB   \n",
       "18  APPLE       iPhone 13  (PRODUCT)RED    ₹61,999      128 GB   \n",
       "19  APPLE   iPhone 14 Pro   Space Black  ₹1,19,999      128 GB   \n",
       "20  APPLE               -             -    ₹40,999    iOS 14.2   \n",
       "21  APPLE       iPhone 14     Starlight    ₹71,999      128 GB   \n",
       "22  APPLE       iPhone 14        Yellow    ₹71,999      128 GB   \n",
       "23  APPLE       iPhone 13      Midnight    ₹71,999      256 GB   \n",
       "\n",
       "        Primary Camera                                     Display Size  \\\n",
       "0          12MP + 12MP                              15.49 cm (6.1 inch)   \n",
       "1          12MP + 12MP                              15.49 cm (6.1 inch)   \n",
       "2          12MP + 12MP                              15.49 cm (6.1 inch)   \n",
       "3          12MP + 12MP                              15.49 cm (6.1 inch)   \n",
       "4          12MP + 12MP                              15.49 cm (6.1 inch)   \n",
       "5          Not Mention  iPhone, USB-C to Lightning Cable, Documentation   \n",
       "6          Not Mention  iPhone, USB-C to Lightning Cable, Documentation   \n",
       "7          12MP + 12MP                              15.49 cm (6.1 inch)   \n",
       "8          12MP + 12MP                              15.49 cm (6.1 inch)   \n",
       "9          12MP + 12MP                              15.49 cm (6.1 inch)   \n",
       "10         12MP + 12MP                              15.49 cm (6.1 inch)   \n",
       "11         12MP + 12MP                              17.02 cm (6.7 inch)   \n",
       "12         12MP + 12MP                              17.02 cm (6.7 inch)   \n",
       "13         Not Mention  iPhone, USB-C to Lightning Cable, Documentation   \n",
       "14         12MP + 12MP                              17.02 cm (6.7 inch)   \n",
       "15         12MP + 12MP                              15.49 cm (6.1 inch)   \n",
       "16         12MP + 12MP                              17.02 cm (6.7 inch)   \n",
       "17         12MP + 12MP                              15.49 cm (6.1 inch)   \n",
       "18         12MP + 12MP                              15.49 cm (6.1 inch)   \n",
       "19  48MP + 12MP + 12MP                              15.49 cm (6.1 inch)   \n",
       "20         Not Mention  iPhone, USB-C to Lightning Cable, Documentation   \n",
       "21         12MP + 12MP                              15.49 cm (6.1 inch)   \n",
       "22         12MP + 12MP                              15.49 cm (6.1 inch)   \n",
       "23         12MP + 12MP                              15.49 cm (6.1 inch)   \n",
       "\n",
       "    Display Resolution                          Processor  \\\n",
       "0   2532 x 1170 Pixels                    A15 Bionic Chip   \n",
       "1   2532 x 1170 Pixels                    A15 Bionic Chip   \n",
       "2   2532 x 1170 Pixels                    A15 Bionic Chip   \n",
       "3   2532 x 1170 Pixels                    A15 Bionic Chip   \n",
       "4   2532 x 1170 Pixels                    A15 Bionic Chip   \n",
       "5            MHDH3HN/A                  1792 x 828 Pixels   \n",
       "6            MHDJ3HN/A                  1792 x 828 Pixels   \n",
       "7   2532 x 1170 Pixels  A15 Bionic Chip, 6 Core Processor   \n",
       "8   2532 x 1170 Pixels  A15 Bionic Chip, 6 Core Processor   \n",
       "9   2532 x 1170 Pixels  A15 Bionic Chip, 6 Core Processor   \n",
       "10  2532 x 1170 Pixels  A15 Bionic Chip, 6 Core Processor   \n",
       "11  2778 x 1284 Pixels  A15 Bionic Chip, 6 Core Processor   \n",
       "12  2778 x 1284 Pixels  A15 Bionic Chip, 6 Core Processor   \n",
       "13           MHDC3HN/A                  1792 x 828 Pixels   \n",
       "14  2778 x 1284 Pixels  A15 Bionic Chip, 6 Core Processor   \n",
       "15  2532 x 1170 Pixels  A15 Bionic Chip, 6 Core Processor   \n",
       "16  2778 x 1284 Pixels  A15 Bionic Chip, 6 Core Processor   \n",
       "17  2532 x 1170 Pixels  A15 Bionic Chip, 6 Core Processor   \n",
       "18  2532 x 1170 Pixels                    A15 Bionic Chip   \n",
       "19  2556 x 1179 Pixels  A16 Bionic Chip, 6 Core Processor   \n",
       "20           MHDA3HN/A                  1792 x 828 Pixels   \n",
       "21  2532 x 1170 Pixels  A15 Bionic Chip, 6 Core Processor   \n",
       "22  2532 x 1170 Pixels  A15 Bionic Chip, 6 Core Processor   \n",
       "23  2532 x 1170 Pixels                    A15 Bionic Chip   \n",
       "\n",
       "             Processor Cores  \n",
       "0                  Hexa Core  \n",
       "1                  Hexa Core  \n",
       "2                  Hexa Core  \n",
       "3                  Hexa Core  \n",
       "4                  Hexa Core  \n",
       "5   Liquid Retina HD Display  \n",
       "6   Liquid Retina HD Display  \n",
       "7                  Hexa Core  \n",
       "8                  Hexa Core  \n",
       "9                  Hexa Core  \n",
       "10                 Hexa Core  \n",
       "11                 Hexa Core  \n",
       "12                 Hexa Core  \n",
       "13  Liquid Retina HD Display  \n",
       "14                 Hexa Core  \n",
       "15                 Hexa Core  \n",
       "16                 Hexa Core  \n",
       "17                 Hexa Core  \n",
       "18                 Hexa Core  \n",
       "19                 Hexa Core  \n",
       "20  Liquid Retina HD Display  \n",
       "21                 Hexa Core  \n",
       "22                 Hexa Core  \n",
       "23                 Hexa Core  "
      ]
     },
     "execution_count": 87,
     "metadata": {},
     "output_type": "execute_result"
    }
   ],
   "source": [
    "Iphone=pd.DataFrame({'Brand':Brand,'Smartphone':Smartphone,'Colour':Colour,'Price':Price,\n",
    "                        'Storage Rom':Storage_Rom,'Primary Camera':Primary_camera,'Display Size':Display_size,\n",
    "                        'Display Resolution':Display_resolution,'Processor':Processor,'Processor Cores':Processor_cores})\n",
    "print('\\033[1m'+'Flipkart Iphone Models :'+'\\033[0m')\n",
    "Iphone"
   ]
  },
  {
   "cell_type": "code",
   "execution_count": 88,
   "id": "56c52a7d",
   "metadata": {},
   "outputs": [],
   "source": [
    "#Saving dataframe to csv\n",
    "Iphone.to_csv('Iphone.csv',index=False)"
   ]
  },
  {
   "cell_type": "markdown",
   "id": "3ff1fcc7",
   "metadata": {},
   "source": [
    "### Q5. Write a program to scrap geospatial coordinates (latitude, longitude) of a city searched on google maps"
   ]
  },
  {
   "cell_type": "code",
   "execution_count": 89,
   "id": "76ba6095",
   "metadata": {},
   "outputs": [],
   "source": [
    "import selenium\n",
    "import pandas as pd\n",
    "from selenium import webdriver\n",
    "from selenium.common.exceptions import NoSuchElementException\n",
    "import time\n",
    "import requests"
   ]
  },
  {
   "cell_type": "code",
   "execution_count": 90,
   "id": "6056d67b",
   "metadata": {},
   "outputs": [],
   "source": [
    "# Connecting to webdriver\n",
    "driver=webdriver.Chrome(r\"C:\\Users\\Future\\Desktop\\Fliprobo Internship\\chromedriver.exe\")\n",
    "time.sleep(1)\n",
    "\n",
    "# Opening url in chrome browser\n",
    "url='https://www.google.co.in/maps'\n",
    "driver.get(url)\n",
    "time.sleep(3)"
   ]
  },
  {
   "cell_type": "code",
   "execution_count": 91,
   "id": "9cc628ff",
   "metadata": {},
   "outputs": [],
   "source": [
    "# Finding search menu by xpath\n",
    "Search=driver.find_element(By.ID,\"searchboxinput\") \n",
    "# clearing any previous input in search bar\n",
    "Search.clear()\n",
    "# Feeding input specified by user to search menu through send keys\n",
    "Search.send_keys('Nashik')\n",
    "# Finding Search button for clicking through xpath\n",
    "Search_button=driver.find_element(By.ID,\"searchbox-searchbutton\")  \n",
    "# Clicking search button\n",
    "Search_button.click()"
   ]
  },
  {
   "cell_type": "code",
   "execution_count": 92,
   "id": "6b2a27de",
   "metadata": {},
   "outputs": [
    {
     "name": "stdout",
     "output_type": "stream",
     "text": [
      "Current url : https://www.google.co.in/maps/place/Nashik,+Maharashtra/@19.9912096,73.6386625,11z/data=!3m1!4b1!4m6!3m5!1s0x3bddd290b09914b3:0xcb07845d9d28215c!8m2!3d19.9974533!4d73.7898023!16zL20vMDM3dmtr\n"
     ]
    }
   ],
   "source": [
    "current_url=driver.current_url\n",
    "print('Current url :',current_url)"
   ]
  },
  {
   "cell_type": "code",
   "execution_count": 93,
   "id": "6778252f",
   "metadata": {},
   "outputs": [
    {
     "name": "stdout",
     "output_type": "stream",
     "text": [
      "Latitude of given Location: 19.9912096\n",
      "Longitude of given Location: 73.6386625\n"
     ]
    }
   ],
   "source": [
    "try:\n",
    "    if \"@\" in current_url:\n",
    "        location=current_url.split('@')[1].split(',*/data')[0].split(',')\n",
    "        location\n",
    "        print('Latitude of given Location:',location[0])\n",
    "        print('Longitude of given Location:',location[1])\n",
    "except:\n",
    "    print('Location detail not found in url')"
   ]
  },
  {
   "cell_type": "markdown",
   "id": "c6567da7",
   "metadata": {},
   "source": [
    "### Q6. Write a program to scrap all the available details of best gaming laptops from digit.in"
   ]
  },
  {
   "cell_type": "code",
   "execution_count": 94,
   "id": "f8c55647",
   "metadata": {},
   "outputs": [],
   "source": [
    "# Connecting to webdriver\n",
    "driver=webdriver.Chrome(r\"C:\\Users\\Future\\Desktop\\Fliprobo Internship\\chromedriver.exe\")\n",
    "time.sleep(1)\n",
    "\n",
    "# Opening url in chrome browser\n",
    "url='https://www.digit.in'\n",
    "driver.get(url)\n",
    "time.sleep(3)"
   ]
  },
  {
   "cell_type": "code",
   "execution_count": 95,
   "id": "69943be4",
   "metadata": {
    "scrolled": true
   },
   "outputs": [],
   "source": [
    "# Clicking on top 10 option button in menu bar\n",
    "driver.find_element(By.XPATH,'//div[@class=\"menu\"]/ul/li[4]/a').click()\n",
    "time.sleep(3)"
   ]
  },
  {
   "cell_type": "code",
   "execution_count": 96,
   "id": "ce23c8fb",
   "metadata": {},
   "outputs": [],
   "source": [
    "# Opening Best gaming laptops link\n",
    "Gaming_lappy=driver.find_element(By.XPATH,'/html/body/div[5]/div/div/div[4]/div[2]/div/div[1]/ul/li[5]/a').get_attribute('href')\n",
    "driver.get(Gaming_lappy)\n",
    "time.sleep(3)"
   ]
  },
  {
   "cell_type": "code",
   "execution_count": 97,
   "id": "557b3f9c",
   "metadata": {},
   "outputs": [],
   "source": [
    "# Making Empty list for scraping data\n",
    "Laptop_model =[]\n",
    "OS =[]\n",
    "Display = []\n",
    "Processor =[]\n",
    "Memory =[]\n",
    "Price =[]"
   ]
  },
  {
   "cell_type": "code",
   "execution_count": 98,
   "id": "d6b51d83",
   "metadata": {},
   "outputs": [],
   "source": [
    "# Extracting Laptop model via Xpath\n",
    "for i in range(0,1):\n",
    "    laptop_model=driver.find_elements(By.XPATH,'//div[@class=\"left_side\"]//h3'.format(i))\n",
    "    for j in laptop_model:\n",
    "       Laptop_model.append(j.text)"
   ]
  },
  {
   "cell_type": "code",
   "execution_count": 99,
   "id": "24ee958f",
   "metadata": {
    "scrolled": true
   },
   "outputs": [
    {
     "data": {
      "text/plain": [
       "9"
      ]
     },
     "execution_count": 99,
     "metadata": {},
     "output_type": "execute_result"
    }
   ],
   "source": [
    "len(Laptop_model)"
   ]
  },
  {
   "cell_type": "code",
   "execution_count": 100,
   "id": "4e82dd3f",
   "metadata": {},
   "outputs": [],
   "source": [
    "# Extracting OS on Laptop model via Xpath\n",
    "os=driver.find_elements(By.XPATH,'//div[@class=\"Spcs-details\"]/table/tbody/tr[3]/td[3]')\n",
    "for j in os:\n",
    "    OS.append(j.text) "
   ]
  },
  {
   "cell_type": "code",
   "execution_count": 101,
   "id": "72fb6085",
   "metadata": {},
   "outputs": [
    {
     "data": {
      "text/plain": [
       "9"
      ]
     },
     "execution_count": 101,
     "metadata": {},
     "output_type": "execute_result"
    }
   ],
   "source": [
    "len(OS)"
   ]
  },
  {
   "cell_type": "code",
   "execution_count": 102,
   "id": "8f933b67",
   "metadata": {},
   "outputs": [],
   "source": [
    "# Extracting Processor via xpath\n",
    "processor=driver.find_elements(By.XPATH,'//div[@class=\"Spcs-details\"]/table/tbody/tr[4]/td[3]')\n",
    "for j in processor:\n",
    "    Processor.append(j.text)"
   ]
  },
  {
   "cell_type": "code",
   "execution_count": 103,
   "id": "cd2722a9",
   "metadata": {},
   "outputs": [
    {
     "data": {
      "text/plain": [
       "9"
      ]
     },
     "execution_count": 103,
     "metadata": {},
     "output_type": "execute_result"
    }
   ],
   "source": [
    "len(Processor)"
   ]
  },
  {
   "cell_type": "code",
   "execution_count": 104,
   "id": "a5e56df1",
   "metadata": {},
   "outputs": [],
   "source": [
    "# Extracting Memory via xpath\n",
    "memory=driver.find_elements(By.XPATH,'//div[@class=\"Spcs-details\"]/table/tbody/tr[5]/td[3]')\n",
    "for j in memory:\n",
    "    Memory.append(j.text)"
   ]
  },
  {
   "cell_type": "code",
   "execution_count": 105,
   "id": "39a6fc32",
   "metadata": {},
   "outputs": [],
   "source": [
    "# Extracting Laptop Price type via xpath\n",
    "price=driver.find_elements(By.XPATH,'//div[@class=\"lowest_price\"]//p')\n",
    "for j in price:\n",
    "    Price.append(j.text)"
   ]
  },
  {
   "cell_type": "code",
   "execution_count": 106,
   "id": "3cd2cb26",
   "metadata": {
    "scrolled": true
   },
   "outputs": [
    {
     "data": {
      "text/plain": [
       "9"
      ]
     },
     "execution_count": 106,
     "metadata": {},
     "output_type": "execute_result"
    }
   ],
   "source": [
    "len(Price)"
   ]
  },
  {
   "cell_type": "code",
   "execution_count": 107,
   "id": "884471c8",
   "metadata": {},
   "outputs": [
    {
     "data": {
      "text/html": [
       "<div>\n",
       "<style scoped>\n",
       "    .dataframe tbody tr th:only-of-type {\n",
       "        vertical-align: middle;\n",
       "    }\n",
       "\n",
       "    .dataframe tbody tr th {\n",
       "        vertical-align: top;\n",
       "    }\n",
       "\n",
       "    .dataframe thead th {\n",
       "        text-align: right;\n",
       "    }\n",
       "</style>\n",
       "<table border=\"1\" class=\"dataframe\">\n",
       "  <thead>\n",
       "    <tr style=\"text-align: right;\">\n",
       "      <th></th>\n",
       "      <th>Laptop Model</th>\n",
       "      <th>PROCESSOR</th>\n",
       "      <th>MEMORY</th>\n",
       "      <th>Operating System</th>\n",
       "      <th>PRICE</th>\n",
       "    </tr>\n",
       "  </thead>\n",
       "  <tbody>\n",
       "    <tr>\n",
       "      <th>0</th>\n",
       "      <td>Acer Aspire 7 A715</td>\n",
       "      <td>Windows 11 Home</td>\n",
       "      <td>16 GB DDR4GB RAM &amp; 512 GB SSD</td>\n",
       "      <td>15.6″ (1920 x 1080) screen</td>\n",
       "      <td>₹ 74,999</td>\n",
       "    </tr>\n",
       "    <tr>\n",
       "      <th>1</th>\n",
       "      <td>MSI GF63 Thin</td>\n",
       "      <td>Windows 10 Home</td>\n",
       "      <td>8 GB DDR4GB RAM &amp; 512 GB SSD</td>\n",
       "      <td>15.6″ (1280 x 720) screen, 144 Hz refresh rate</td>\n",
       "      <td>₹ 59,500</td>\n",
       "    </tr>\n",
       "    <tr>\n",
       "      <th>2</th>\n",
       "      <td>Acer Nitro 5 AN515-57</td>\n",
       "      <td>Windows 11</td>\n",
       "      <td>16 GB DDR4GB RAM &amp; 512 GB SSD</td>\n",
       "      <td>15.6″ (1920 x 1080) screen, 144 Hz refresh rate</td>\n",
       "      <td>₹ 62,990</td>\n",
       "    </tr>\n",
       "    <tr>\n",
       "      <th>3</th>\n",
       "      <td>Lenovo Legion 5</td>\n",
       "      <td>Windows 10 Home</td>\n",
       "      <td>8 GB DDR4GB RAM &amp; 1 TB HDD with 256 GB SSD</td>\n",
       "      <td>15.6″ (1920 x 1080) screen, 120 Hz refresh rate</td>\n",
       "      <td>₹ 64,790</td>\n",
       "    </tr>\n",
       "    <tr>\n",
       "      <th>4</th>\n",
       "      <td>Lenovo Ideapad Gaming 3</td>\n",
       "      <td>Windows 11 Home</td>\n",
       "      <td>8 GB DDR4GB RAM &amp; 512 GB SSD</td>\n",
       "      <td>15.6″ (1920 x 1080) screen, 120 Hz refresh rate</td>\n",
       "      <td>₹ 53,990</td>\n",
       "    </tr>\n",
       "    <tr>\n",
       "      <th>5</th>\n",
       "      <td>HP Pavilion 15 (With Updated Specs)</td>\n",
       "      <td>Windows 11 Home</td>\n",
       "      <td>16 GB DDR4GB RAM &amp; 512 GB SSD</td>\n",
       "      <td>15.6″ (1920 x 1080) screen</td>\n",
       "      <td>₹ 75,990</td>\n",
       "    </tr>\n",
       "    <tr>\n",
       "      <th>6</th>\n",
       "      <td>HP Victus 16-D0354TX</td>\n",
       "      <td>Windows 11 Home</td>\n",
       "      <td>8 GB DDR4GB RAM &amp; 512 GB SSD</td>\n",
       "      <td>16.1″ (1920 x 1080) screen, 144 Hz refresh rate</td>\n",
       "      <td>₹ 84,999</td>\n",
       "    </tr>\n",
       "    <tr>\n",
       "      <th>7</th>\n",
       "      <td>Dell G15 511 Gaming Laptop</td>\n",
       "      <td>Windows 11 Home</td>\n",
       "      <td>8 GB DDR4GB RAM &amp; 512 GB SSD</td>\n",
       "      <td>15.6″ (1920 x 1080) screen, 120 Hz refresh rate</td>\n",
       "      <td>₹ 65,990</td>\n",
       "    </tr>\n",
       "    <tr>\n",
       "      <th>8</th>\n",
       "      <td>Acer Aspire 5 A515-57G</td>\n",
       "      <td>Windows 11 Home</td>\n",
       "      <td>8 GB DDR4GB RAM &amp; 512 GB SSD</td>\n",
       "      <td>15.6″ (1920 x 1080) screen</td>\n",
       "      <td>₹ 57,420</td>\n",
       "    </tr>\n",
       "  </tbody>\n",
       "</table>\n",
       "</div>"
      ],
      "text/plain": [
       "                          Laptop Model        PROCESSOR  \\\n",
       "0                   Acer Aspire 7 A715  Windows 11 Home   \n",
       "1                        MSI GF63 Thin  Windows 10 Home   \n",
       "2                Acer Nitro 5 AN515-57       Windows 11   \n",
       "3                      Lenovo Legion 5  Windows 10 Home   \n",
       "4              Lenovo Ideapad Gaming 3  Windows 11 Home   \n",
       "5  HP Pavilion 15 (With Updated Specs)  Windows 11 Home   \n",
       "6                 HP Victus 16-D0354TX  Windows 11 Home   \n",
       "7           Dell G15 511 Gaming Laptop  Windows 11 Home   \n",
       "8               Acer Aspire 5 A515-57G  Windows 11 Home   \n",
       "\n",
       "                                       MEMORY  \\\n",
       "0               16 GB DDR4GB RAM & 512 GB SSD   \n",
       "1                8 GB DDR4GB RAM & 512 GB SSD   \n",
       "2               16 GB DDR4GB RAM & 512 GB SSD   \n",
       "3  8 GB DDR4GB RAM & 1 TB HDD with 256 GB SSD   \n",
       "4                8 GB DDR4GB RAM & 512 GB SSD   \n",
       "5               16 GB DDR4GB RAM & 512 GB SSD   \n",
       "6                8 GB DDR4GB RAM & 512 GB SSD   \n",
       "7                8 GB DDR4GB RAM & 512 GB SSD   \n",
       "8                8 GB DDR4GB RAM & 512 GB SSD   \n",
       "\n",
       "                                  Operating System     PRICE  \n",
       "0                       15.6″ (1920 x 1080) screen  ₹ 74,999  \n",
       "1   15.6″ (1280 x 720) screen, 144 Hz refresh rate  ₹ 59,500  \n",
       "2  15.6″ (1920 x 1080) screen, 144 Hz refresh rate  ₹ 62,990  \n",
       "3  15.6″ (1920 x 1080) screen, 120 Hz refresh rate  ₹ 64,790  \n",
       "4  15.6″ (1920 x 1080) screen, 120 Hz refresh rate  ₹ 53,990  \n",
       "5                       15.6″ (1920 x 1080) screen  ₹ 75,990  \n",
       "6  16.1″ (1920 x 1080) screen, 144 Hz refresh rate  ₹ 84,999  \n",
       "7  15.6″ (1920 x 1080) screen, 120 Hz refresh rate  ₹ 65,990  \n",
       "8                       15.6″ (1920 x 1080) screen  ₹ 57,420  "
      ]
     },
     "execution_count": 107,
     "metadata": {},
     "output_type": "execute_result"
    }
   ],
   "source": [
    "#Making Dataframe\n",
    "Gaming_Laptops=pd.DataFrame({\"Laptop Model\":Laptop_model,\"PROCESSOR\":Processor,\"MEMORY\":Memory,\"Operating System\":OS,\"PRICE\":Price})\n",
    "Gaming_Laptops"
   ]
  },
  {
   "cell_type": "markdown",
   "id": "2b77aada",
   "metadata": {},
   "source": [
    "### Q7. Write a python program to scrape the details for all billionaires from www.forbes.com. Details to be scrapped:\n",
    "#### “Rank”, “Name”, “Net worth”, “Age”, “Citizenship”, “Source”, “Industry”. "
   ]
  },
  {
   "cell_type": "code",
   "execution_count": 108,
   "id": "f9a50171",
   "metadata": {},
   "outputs": [],
   "source": [
    "import selenium\n",
    "import pandas as pd\n",
    "from selenium import webdriver\n",
    "from selenium.common.exceptions import NoSuchElementException\n",
    "import time"
   ]
  },
  {
   "cell_type": "code",
   "execution_count": 109,
   "id": "645b0f94",
   "metadata": {},
   "outputs": [],
   "source": [
    "# Connecting to webdriver\n",
    "driver=webdriver.Chrome(r\"C:\\Users\\Future\\Desktop\\Fliprobo Internship\\chromedriver.exe\")\n",
    "time.sleep(1)\n",
    "\n",
    "# Opening url in chrome browser\n",
    "url=\"https://www.forbes.com\"\n",
    "driver.get(url)\n",
    "time.sleep(1)"
   ]
  },
  {
   "cell_type": "code",
   "execution_count": 113,
   "id": "0afa79a5",
   "metadata": {},
   "outputs": [],
   "source": [
    "# Clicking on explore button to expand menu\n",
    "driver.find_element(By.XPATH,'//div[@class=\"_8FT-x3t4\"]').click()\n",
    "\n",
    "# Clicking on Billionaire category\n",
    "driver.find_element(By.XPATH,'//li[@class=\"TjJgrPSg cD45ib6e primary\"]').click()\n",
    "\n",
    "# Clicking on world billionaire tab\n",
    "driver.find_element(By.XPATH,'//li[@class=\"TjJgrPSg _2bNo56RE secondary\"]').click()"
   ]
  },
  {
   "cell_type": "code",
   "execution_count": 151,
   "id": "aabb8917",
   "metadata": {},
   "outputs": [],
   "source": [
    "# Empty list to scrap data\n",
    "Rank =[]\n",
    "Name=[]\n",
    "Net_worth=[]\n",
    "Age=[]\n",
    "Citizenship=[]\n",
    "Source=[]\n",
    "Industry=[]"
   ]
  },
  {
   "cell_type": "code",
   "execution_count": 118,
   "id": "69778fbc",
   "metadata": {},
   "outputs": [],
   "source": [
    "# Extracting Rank No\n",
    "rank=driver.find_elements(By.XPATH,'//div[@class=\"Table_rank___YBhk Table_dataCell__2QCve\"]')\n",
    "for i in rank:\n",
    "    Rank.append(i.text)"
   ]
  },
  {
   "cell_type": "code",
   "execution_count": 119,
   "id": "ae3dc78e",
   "metadata": {},
   "outputs": [
    {
     "data": {
      "text/plain": [
       "200"
      ]
     },
     "execution_count": 119,
     "metadata": {},
     "output_type": "execute_result"
    }
   ],
   "source": [
    "len(Rank)"
   ]
  },
  {
   "cell_type": "code",
   "execution_count": 152,
   "id": "e02045e6",
   "metadata": {},
   "outputs": [
    {
     "ename": "IndentationError",
     "evalue": "unexpected indent (2521790252.py, line 3)",
     "output_type": "error",
     "traceback": [
      "\u001b[1;36m  Cell \u001b[1;32mIn[152], line 3\u001b[1;36m\u001b[0m\n\u001b[1;33m    Name.append(i.text)\u001b[0m\n\u001b[1;37m    ^\u001b[0m\n\u001b[1;31mIndentationError\u001b[0m\u001b[1;31m:\u001b[0m unexpected indent\n"
     ]
    }
   ],
   "source": [
    "# Extacting name\n",
    "name=driver.find_elements(By.XPATH,'')       \n",
    "for i in name:\n",
    "    Name.append(i.text)"
   ]
  },
  {
   "cell_type": "code",
   "execution_count": 148,
   "id": "23eb23c6",
   "metadata": {},
   "outputs": [
    {
     "data": {
      "text/plain": [
       "0"
      ]
     },
     "execution_count": 148,
     "metadata": {},
     "output_type": "execute_result"
    }
   ],
   "source": [
    "len(Name)"
   ]
  },
  {
   "cell_type": "code",
   "execution_count": null,
   "id": "017a0646",
   "metadata": {},
   "outputs": [],
   "source": [
    "#Extracting Net worth\n",
    "net=driver.find_elements(By.XPATH,'//div[@class=\"netWorth\"]/div')\n",
    "for i in net:\n",
    "    Net_worth.append(i.text)"
   ]
  },
  {
   "cell_type": "code",
   "execution_count": null,
   "id": "68fa8154",
   "metadata": {},
   "outputs": [],
   "source": [
    "# Extracting Age\n",
    "age=driver.find_elements(By.XPATH,'//div[@class=\"age\"]/div')\n",
    "for i in age:\n",
    "    Age.append(i.text)"
   ]
  },
  {
   "cell_type": "code",
   "execution_count": null,
   "id": "96aca4cc",
   "metadata": {},
   "outputs": [],
   "source": [
    " # Extracting Citizenship\n",
    "citizen=driver.find_elements(By.XPATH,'//div[@class=\"countryOfCitizenship\"]')\n",
    "for i in citizen:\n",
    "    Citizenship.append(i.text)"
   ]
  },
  {
   "cell_type": "code",
   "execution_count": null,
   "id": "7f2bb9a5",
   "metadata": {},
   "outputs": [],
   "source": [
    "# Extracting Source\n",
    "try:\n",
    "    source=driver.find_elements(By.XPATH,'//div[@class=\"source-column\"]')\n",
    "    for i in source:\n",
    "        Source.append(i.text)\n",
    "except:\n",
    "    source=driver.find_elements(By.XPATH,'//*[@id=\"\"]/div[6]/div/div[1]')\n",
    "    Source.append(i.text)"
   ]
  },
  {
   "cell_type": "code",
   "execution_count": null,
   "id": "9307fdb4",
   "metadata": {},
   "outputs": [],
   "source": [
    "# Extracting Industry\n",
    "industry=driver.find_elements(By.XPATH,\"//div[@class=\"Table_dataCell__2QCve\"]//div\")\n",
    "for i in industry:\n",
    "    Industry.append(i.text)"
   ]
  },
  {
   "cell_type": "code",
   "execution_count": null,
   "id": "c0cd7999",
   "metadata": {},
   "outputs": [],
   "source": [
    "#creating dataframe\n",
    "Forbes_list=pd.DataFrame({'Rank':Rank,'Name':Name,'Net Worth':Net_worth,'Age':Age,'Citizenship':Citizenship,\n",
    "                'Source':Source,'Industry':Industry})\n",
    "print('\\033[1m'+' Forbes World Billionaires List Oct 2023 :'+'\\033[0m')\n",
    "Forbes_list"
   ]
  },
  {
   "cell_type": "markdown",
   "id": "7853b5d1",
   "metadata": {},
   "source": [
    "### Q8. Write a program to extract at least 500 Comments, Comment upvote and time when comment was posted from any YouTube Video."
   ]
  },
  {
   "cell_type": "code",
   "execution_count": 203,
   "id": "80521494",
   "metadata": {},
   "outputs": [],
   "source": [
    "# Connecting to webdriver\n",
    "driver=webdriver.Chrome(r\"C:\\Users\\Future\\Desktop\\Fliprobo Internship\\chromedriver.exe\")\n",
    "time.sleep(1)\n",
    "\n",
    "# Opening url in chrome browser\n",
    "url=\"https://www.youtube.com\"\n",
    "driver.get(url)\n",
    "time.sleep(3)"
   ]
  },
  {
   "cell_type": "code",
   "execution_count": 204,
   "id": "33d340cb",
   "metadata": {},
   "outputs": [],
   "source": [
    "# Finding search menu by xpath\n",
    "Search=driver.find_element(By.XPATH,'//input[@id=\"search\"]') \n",
    "# Feeding input video name by user to search menu through send keys\n",
    "Search.send_keys('Zaalima-Lyrical')\n"
   ]
  },
  {
   "cell_type": "code",
   "execution_count": 205,
   "id": "34c7f0a3",
   "metadata": {},
   "outputs": [],
   "source": [
    "# Finding Search button for clicking through xpath\n",
    "Search_button=driver.find_element(By.XPATH,'//button[@id=\"search-icon-legacy\"]/yt-icon')  \n",
    "# Clicking search button\n",
    "Search_button.click()\n",
    "time.sleep(2)"
   ]
  },
  {
   "cell_type": "code",
   "execution_count": 207,
   "id": "ce31ff96",
   "metadata": {},
   "outputs": [],
   "source": [
    "# Clicking on video\n",
    "link = driver.find_element(By.XPATH,\"//yt-formatted-string[@class ='style-scope ytd-video-renderer']\")\n",
    "link.click()\n",
    "time.sleep(3)"
   ]
  },
  {
   "cell_type": "code",
   "execution_count": 222,
   "id": "6ed757a9",
   "metadata": {},
   "outputs": [],
   "source": [
    "# Scrolling window using ScrollBy method from 0 pixel to 15000 pixel\n",
    "driver.execute_script(\"window.scrollBy(0,1000000)\",\"\")"
   ]
  },
  {
   "cell_type": "code",
   "execution_count": 220,
   "id": "73b79b4c",
   "metadata": {},
   "outputs": [],
   "source": [
    "# Empty lists to scrap data\n",
    "Comments = []\n",
    "Comment_posted_ago = []\n",
    "Timeline = []\n",
    "Likes = []\n",
    "No_of_Likes = []"
   ]
  },
  {
   "cell_type": "code",
   "execution_count": 229,
   "id": "bc9c2fbf",
   "metadata": {},
   "outputs": [
    {
     "name": "stderr",
     "output_type": "stream",
     "text": [
      "100%|████████████████████████████████████████████████████████████████████████████████| 560/560 [00:23<00:00, 23.76it/s]\n"
     ]
    }
   ],
   "source": [
    "#extracting comment on video\n",
    "for _ in range(100):\n",
    "    driver.execute_script(\"window.scrollBy(0,100000)\")\n",
    "    \n",
    "comment = driver.find_elements(By.ID,\"content-text\")\n",
    "time.sleep(3)\n",
    "from tqdm import tqdm\n",
    "for i in tqdm(comment):\n",
    "    if i.text is None:\n",
    "        Comments.append(\"--\")\n",
    "    else:\n",
    "        Comments.append(i.text)"
   ]
  },
  {
   "cell_type": "code",
   "execution_count": 230,
   "id": "37495b85",
   "metadata": {},
   "outputs": [
    {
     "name": "stderr",
     "output_type": "stream",
     "text": [
      "100%|████████████████████████████████████████████████████████████████████████████████| 782/782 [00:48<00:00, 16.19it/s]\n",
      "100%|████████████████████████████████████████████████████████████████████████████| 502/502 [00:00<00:00, 503116.04it/s]\n"
     ]
    }
   ],
   "source": [
    "# Extracting time of commenting\n",
    "for _ in range(100):\n",
    "    driver.execute_script(\"window.scrollBy(0,100000)\")\n",
    "    \n",
    "timeline = driver.find_elements(By.XPATH,\"//a[contains(text(),'ago')]\")\n",
    "time.sleep(3)\n",
    "from tqdm import tqdm\n",
    "for i in tqdm(timeline):\n",
    "    if i.text is None:\n",
    "        Timeline.append(\"-\")\n",
    "    else:\n",
    "        Timeline.append(i.text)\n",
    "for i in tqdm(range(0,len(Timeline),2)):\n",
    "    Comment_posted_ago.append(Timeline[i])"
   ]
  },
  {
   "cell_type": "code",
   "execution_count": 231,
   "id": "3bd196f7",
   "metadata": {},
   "outputs": [],
   "source": [
    "# scrape the comment likes\n",
    "for _ in range(100):\n",
    "    driver.execute_script(\"window.scrollBy(0,100000)\")\n",
    "    \n",
    "like = driver.find_elements(By.XPATH,\"//span[@class='style-scope ytd-comment-action-buttons-renderer']\")\n",
    "for i in like:\n",
    "    Likes.append(i.text)\n",
    "    \n",
    "for i in range(1,len(Likes),2):\n",
    "    No_of_Likes.append(Likes[i])\n",
    "time.sleep(3)"
   ]
  },
  {
   "cell_type": "code",
   "execution_count": 233,
   "id": "60eced77",
   "metadata": {},
   "outputs": [
    {
     "data": {
      "text/html": [
       "<div>\n",
       "<style scoped>\n",
       "    .dataframe tbody tr th:only-of-type {\n",
       "        vertical-align: middle;\n",
       "    }\n",
       "\n",
       "    .dataframe tbody tr th {\n",
       "        vertical-align: top;\n",
       "    }\n",
       "\n",
       "    .dataframe thead th {\n",
       "        text-align: right;\n",
       "    }\n",
       "</style>\n",
       "<table border=\"1\" class=\"dataframe\">\n",
       "  <thead>\n",
       "    <tr style=\"text-align: right;\">\n",
       "      <th></th>\n",
       "      <th>Comments</th>\n",
       "      <th>Comment Posted Ago</th>\n",
       "      <th>No. of Likes</th>\n",
       "    </tr>\n",
       "  </thead>\n",
       "  <tbody>\n",
       "    <tr>\n",
       "      <th>0</th>\n",
       "      <td>SUBSCRIBE to Zee Music Company - https://bit....</td>\n",
       "      <td></td>\n",
       "      <td>2.8K</td>\n",
       "    </tr>\n",
       "    <tr>\n",
       "      <th>1</th>\n",
       "      <td>A message to the future generations..Don’t let...</td>\n",
       "      <td>2 years ago</td>\n",
       "      <td>683</td>\n",
       "    </tr>\n",
       "    <tr>\n",
       "      <th>2</th>\n",
       "      <td>It's 2022 still the magic of this song never b...</td>\n",
       "      <td>8 months ago</td>\n",
       "      <td>203</td>\n",
       "    </tr>\n",
       "    <tr>\n",
       "      <th>3</th>\n",
       "      <td>Zee Music please bring this beautiful song bac...</td>\n",
       "      <td>1 month ago</td>\n",
       "      <td>133</td>\n",
       "    </tr>\n",
       "    <tr>\n",
       "      <th>4</th>\n",
       "      <td>Don't worry after 10 years we'll meet again in...</td>\n",
       "      <td>1 year ago</td>\n",
       "      <td>125</td>\n",
       "    </tr>\n",
       "    <tr>\n",
       "      <th>...</th>\n",
       "      <td>...</td>\n",
       "      <td>...</td>\n",
       "      <td>...</td>\n",
       "    </tr>\n",
       "    <tr>\n",
       "      <th>495</th>\n",
       "      <td>Recently so many beautiful songs got removed f...</td>\n",
       "      <td>13 days ago</td>\n",
       "      <td></td>\n",
       "    </tr>\n",
       "    <tr>\n",
       "      <th>496</th>\n",
       "      <td>I love this song so much️ It gives me a feelin...</td>\n",
       "      <td>7 months ago</td>\n",
       "      <td>1</td>\n",
       "    </tr>\n",
       "    <tr>\n",
       "      <th>497</th>\n",
       "      <td>Très belle chanson et très émotionnelle ,</td>\n",
       "      <td>1 year ago</td>\n",
       "      <td></td>\n",
       "    </tr>\n",
       "    <tr>\n",
       "      <th>498</th>\n",
       "      <td>I get goosebumps when I listen to this masterp...</td>\n",
       "      <td>6 months ago</td>\n",
       "      <td>1</td>\n",
       "    </tr>\n",
       "    <tr>\n",
       "      <th>499</th>\n",
       "      <td>Arijit's voice is magical️</td>\n",
       "      <td>6 months ago</td>\n",
       "      <td>596</td>\n",
       "    </tr>\n",
       "  </tbody>\n",
       "</table>\n",
       "<p>500 rows × 3 columns</p>\n",
       "</div>"
      ],
      "text/plain": [
       "                                              Comments Comment Posted Ago  \\\n",
       "0     SUBSCRIBE to Zee Music Company - https://bit....                      \n",
       "1    A message to the future generations..Don’t let...        2 years ago   \n",
       "2    It's 2022 still the magic of this song never b...       8 months ago   \n",
       "3    Zee Music please bring this beautiful song bac...        1 month ago   \n",
       "4    Don't worry after 10 years we'll meet again in...         1 year ago   \n",
       "..                                                 ...                ...   \n",
       "495  Recently so many beautiful songs got removed f...        13 days ago   \n",
       "496  I love this song so much️ It gives me a feelin...       7 months ago   \n",
       "497          Très belle chanson et très émotionnelle ,         1 year ago   \n",
       "498  I get goosebumps when I listen to this masterp...       6 months ago   \n",
       "499                         Arijit's voice is magical️       6 months ago   \n",
       "\n",
       "    No. of Likes  \n",
       "0           2.8K  \n",
       "1            683  \n",
       "2            203  \n",
       "3            133  \n",
       "4            125  \n",
       "..           ...  \n",
       "495               \n",
       "496            1  \n",
       "497               \n",
       "498            1  \n",
       "499          596  \n",
       "\n",
       "[500 rows x 3 columns]"
      ]
     },
     "execution_count": 233,
     "metadata": {},
     "output_type": "execute_result"
    }
   ],
   "source": [
    "YT=pd.DataFrame({})\n",
    "YT['Comments']=Comments[:500]\n",
    "YT['Comment Posted Ago']=Comment_posted_ago[:500]\n",
    "YT['No. of Likes']=No_of_Likes[:500]\n",
    "YT"
   ]
  },
  {
   "cell_type": "markdown",
   "id": "390d64cc",
   "metadata": {},
   "source": [
    "### Q9. Write a python program to scrape a data for all available Hostels from https://www.hostelworld.com/ in “London” location. You have to scrape hostel name, distance from city centre, ratings, total reviews, overall reviews, privates from price, dorms from price, facilities and property description. "
   ]
  },
  {
   "cell_type": "code",
   "execution_count": 236,
   "id": "ce1a2bf6",
   "metadata": {},
   "outputs": [],
   "source": [
    "# Connecting to webdriver\n",
    "driver=webdriver.Chrome(r\"C:\\Users\\Future\\Desktop\\Fliprobo Internship\\chromedriver.exe\")\n",
    "time.sleep(1)\n",
    "\n",
    "# Opening url in chrome browser\n",
    "url=\"https://www.hostelworld.com\"\n",
    "driver.get(url)\n",
    "time.sleep(2)"
   ]
  },
  {
   "cell_type": "code",
   "execution_count": 241,
   "id": "edbf0911",
   "metadata": {
    "scrolled": true
   },
   "outputs": [
    {
     "ename": "WebDriverException",
     "evalue": "Message: disconnected: not connected to DevTools\n  (failed to check if window was closed: disconnected: not connected to DevTools)\n  (Session info: chrome=112.0.5615.138)\nStacktrace:\nBacktrace:\n\tGetHandleVerifier [0x005FDCE3+50899]\n\t(No symbol) [0x0058E111]\n\t(No symbol) [0x00495588]\n\t(No symbol) [0x00487CB6]\n\t(No symbol) [0x004879D9]\n\t(No symbol) [0x00496990]\n\t(No symbol) [0x004EDB9C]\n\t(No symbol) [0x004DB6F6]\n\t(No symbol) [0x004B7708]\n\t(No symbol) [0x004B886D]\n\tGetHandleVerifier [0x00863EAE+2566302]\n\tGetHandleVerifier [0x008992B1+2784417]\n\tGetHandleVerifier [0x0089327C+2759788]\n\tGetHandleVerifier [0x00695740+672048]\n\t(No symbol) [0x00598872]\n\t(No symbol) [0x005941C8]\n\t(No symbol) [0x005942AB]\n\t(No symbol) [0x005871B7]\n\tBaseThreadInitThunk [0x76E3FA29+25]\n\tRtlGetAppContainerNamedObjectPath [0x77597B5E+286]\n\tRtlGetAppContainerNamedObjectPath [0x77597B2E+238]\n",
     "output_type": "error",
     "traceback": [
      "\u001b[1;31m---------------------------------------------------------------------------\u001b[0m",
      "\u001b[1;31mWebDriverException\u001b[0m                        Traceback (most recent call last)",
      "Cell \u001b[1;32mIn[241], line 1\u001b[0m\n\u001b[1;32m----> 1\u001b[0m \u001b[43mdriver\u001b[49m\u001b[38;5;241;43m.\u001b[39;49m\u001b[43mfind_elements\u001b[49m\u001b[43m(\u001b[49m\u001b[43mBy\u001b[49m\u001b[38;5;241;43m.\u001b[39;49m\u001b[43mXPATH\u001b[49m\u001b[43m,\u001b[49m\u001b[38;5;124;43m'\u001b[39;49m\u001b[38;5;124;43m//li[@class=\u001b[39;49m\u001b[38;5;124;43m\"\u001b[39;49m\u001b[38;5;124;43mpill active\u001b[39;49m\u001b[38;5;124;43m\"\u001b[39;49m\u001b[38;5;124;43m]\u001b[39;49m\u001b[38;5;124;43m'\u001b[39;49m\u001b[43m)\u001b[49m\u001b[38;5;241m.\u001b[39mclick()\n",
      "File \u001b[1;32m~\\anaconda3\\lib\\site-packages\\selenium\\webdriver\\remote\\webdriver.py:861\u001b[0m, in \u001b[0;36mWebDriver.find_elements\u001b[1;34m(self, by, value)\u001b[0m\n\u001b[0;32m    857\u001b[0m     value \u001b[38;5;241m=\u001b[39m \u001b[38;5;124mf\u001b[39m\u001b[38;5;124m'\u001b[39m\u001b[38;5;124m[name=\u001b[39m\u001b[38;5;124m\"\u001b[39m\u001b[38;5;132;01m{\u001b[39;00mvalue\u001b[38;5;132;01m}\u001b[39;00m\u001b[38;5;124m\"\u001b[39m\u001b[38;5;124m]\u001b[39m\u001b[38;5;124m'\u001b[39m\n\u001b[0;32m    859\u001b[0m \u001b[38;5;66;03m# Return empty list if driver returns null\u001b[39;00m\n\u001b[0;32m    860\u001b[0m \u001b[38;5;66;03m# See https://github.com/SeleniumHQ/selenium/issues/4555\u001b[39;00m\n\u001b[1;32m--> 861\u001b[0m \u001b[38;5;28;01mreturn\u001b[39;00m \u001b[38;5;28;43mself\u001b[39;49m\u001b[38;5;241;43m.\u001b[39;49m\u001b[43mexecute\u001b[49m\u001b[43m(\u001b[49m\u001b[43mCommand\u001b[49m\u001b[38;5;241;43m.\u001b[39;49m\u001b[43mFIND_ELEMENTS\u001b[49m\u001b[43m,\u001b[49m\u001b[43m \u001b[49m\u001b[43m{\u001b[49m\u001b[38;5;124;43m\"\u001b[39;49m\u001b[38;5;124;43musing\u001b[39;49m\u001b[38;5;124;43m\"\u001b[39;49m\u001b[43m:\u001b[49m\u001b[43m \u001b[49m\u001b[43mby\u001b[49m\u001b[43m,\u001b[49m\u001b[43m \u001b[49m\u001b[38;5;124;43m\"\u001b[39;49m\u001b[38;5;124;43mvalue\u001b[39;49m\u001b[38;5;124;43m\"\u001b[39;49m\u001b[43m:\u001b[49m\u001b[43m \u001b[49m\u001b[43mvalue\u001b[49m\u001b[43m}\u001b[49m\u001b[43m)\u001b[49m[\u001b[38;5;124m\"\u001b[39m\u001b[38;5;124mvalue\u001b[39m\u001b[38;5;124m\"\u001b[39m] \u001b[38;5;129;01mor\u001b[39;00m []\n",
      "File \u001b[1;32m~\\anaconda3\\lib\\site-packages\\selenium\\webdriver\\remote\\webdriver.py:440\u001b[0m, in \u001b[0;36mWebDriver.execute\u001b[1;34m(self, driver_command, params)\u001b[0m\n\u001b[0;32m    438\u001b[0m response \u001b[38;5;241m=\u001b[39m \u001b[38;5;28mself\u001b[39m\u001b[38;5;241m.\u001b[39mcommand_executor\u001b[38;5;241m.\u001b[39mexecute(driver_command, params)\n\u001b[0;32m    439\u001b[0m \u001b[38;5;28;01mif\u001b[39;00m response:\n\u001b[1;32m--> 440\u001b[0m     \u001b[38;5;28;43mself\u001b[39;49m\u001b[38;5;241;43m.\u001b[39;49m\u001b[43merror_handler\u001b[49m\u001b[38;5;241;43m.\u001b[39;49m\u001b[43mcheck_response\u001b[49m\u001b[43m(\u001b[49m\u001b[43mresponse\u001b[49m\u001b[43m)\u001b[49m\n\u001b[0;32m    441\u001b[0m     response[\u001b[38;5;124m\"\u001b[39m\u001b[38;5;124mvalue\u001b[39m\u001b[38;5;124m\"\u001b[39m] \u001b[38;5;241m=\u001b[39m \u001b[38;5;28mself\u001b[39m\u001b[38;5;241m.\u001b[39m_unwrap_value(response\u001b[38;5;241m.\u001b[39mget(\u001b[38;5;124m\"\u001b[39m\u001b[38;5;124mvalue\u001b[39m\u001b[38;5;124m\"\u001b[39m, \u001b[38;5;28;01mNone\u001b[39;00m))\n\u001b[0;32m    442\u001b[0m     \u001b[38;5;28;01mreturn\u001b[39;00m response\n",
      "File \u001b[1;32m~\\anaconda3\\lib\\site-packages\\selenium\\webdriver\\remote\\errorhandler.py:245\u001b[0m, in \u001b[0;36mErrorHandler.check_response\u001b[1;34m(self, response)\u001b[0m\n\u001b[0;32m    243\u001b[0m         alert_text \u001b[38;5;241m=\u001b[39m value[\u001b[38;5;124m\"\u001b[39m\u001b[38;5;124malert\u001b[39m\u001b[38;5;124m\"\u001b[39m]\u001b[38;5;241m.\u001b[39mget(\u001b[38;5;124m\"\u001b[39m\u001b[38;5;124mtext\u001b[39m\u001b[38;5;124m\"\u001b[39m)\n\u001b[0;32m    244\u001b[0m     \u001b[38;5;28;01mraise\u001b[39;00m exception_class(message, screen, stacktrace, alert_text)  \u001b[38;5;66;03m# type: ignore[call-arg]  # mypy is not smart enough here\u001b[39;00m\n\u001b[1;32m--> 245\u001b[0m \u001b[38;5;28;01mraise\u001b[39;00m exception_class(message, screen, stacktrace)\n",
      "\u001b[1;31mWebDriverException\u001b[0m: Message: disconnected: not connected to DevTools\n  (failed to check if window was closed: disconnected: not connected to DevTools)\n  (Session info: chrome=112.0.5615.138)\nStacktrace:\nBacktrace:\n\tGetHandleVerifier [0x005FDCE3+50899]\n\t(No symbol) [0x0058E111]\n\t(No symbol) [0x00495588]\n\t(No symbol) [0x00487CB6]\n\t(No symbol) [0x004879D9]\n\t(No symbol) [0x00496990]\n\t(No symbol) [0x004EDB9C]\n\t(No symbol) [0x004DB6F6]\n\t(No symbol) [0x004B7708]\n\t(No symbol) [0x004B886D]\n\tGetHandleVerifier [0x00863EAE+2566302]\n\tGetHandleVerifier [0x008992B1+2784417]\n\tGetHandleVerifier [0x0089327C+2759788]\n\tGetHandleVerifier [0x00695740+672048]\n\t(No symbol) [0x00598872]\n\t(No symbol) [0x005941C8]\n\t(No symbol) [0x005942AB]\n\t(No symbol) [0x005871B7]\n\tBaseThreadInitThunk [0x76E3FA29+25]\n\tRtlGetAppContainerNamedObjectPath [0x77597B5E+286]\n\tRtlGetAppContainerNamedObjectPath [0x77597B2E+238]\n"
     ]
    }
   ],
   "source": [
    "driver.find_elements(By.XPATH,'//li[@class=\"pill active\"]').click()"
   ]
  },
  {
   "cell_type": "code",
   "execution_count": 247,
   "id": "b33d20b9",
   "metadata": {},
   "outputs": [
    {
     "ename": "WebDriverException",
     "evalue": "Message: disconnected: not connected to DevTools\n  (failed to check if window was closed: disconnected: not connected to DevTools)\n  (Session info: chrome=112.0.5615.138)\nStacktrace:\nBacktrace:\n\tGetHandleVerifier [0x005FDCE3+50899]\n\t(No symbol) [0x0058E111]\n\t(No symbol) [0x00495588]\n\t(No symbol) [0x00487CB6]\n\t(No symbol) [0x004879D9]\n\t(No symbol) [0x00496990]\n\t(No symbol) [0x004EDB9C]\n\t(No symbol) [0x004DB6F6]\n\t(No symbol) [0x004B7708]\n\t(No symbol) [0x004B886D]\n\tGetHandleVerifier [0x00863EAE+2566302]\n\tGetHandleVerifier [0x008992B1+2784417]\n\tGetHandleVerifier [0x0089327C+2759788]\n\tGetHandleVerifier [0x00695740+672048]\n\t(No symbol) [0x00598872]\n\t(No symbol) [0x005941C8]\n\t(No symbol) [0x005942AB]\n\t(No symbol) [0x005871B7]\n\tBaseThreadInitThunk [0x76E3FA29+25]\n\tRtlGetAppContainerNamedObjectPath [0x77597B5E+286]\n\tRtlGetAppContainerNamedObjectPath [0x77597B2E+238]\n",
     "output_type": "error",
     "traceback": [
      "\u001b[1;31m---------------------------------------------------------------------------\u001b[0m",
      "\u001b[1;31mWebDriverException\u001b[0m                        Traceback (most recent call last)",
      "Cell \u001b[1;32mIn[247], line 2\u001b[0m\n\u001b[0;32m      1\u001b[0m \u001b[38;5;66;03m#locating the location search bar\u001b[39;00m\n\u001b[1;32m----> 2\u001b[0m Search \u001b[38;5;241m=\u001b[39m \u001b[43mdriver\u001b[49m\u001b[38;5;241;43m.\u001b[39;49m\u001b[43mfind_element\u001b[49m\u001b[43m(\u001b[49m\u001b[43mBy\u001b[49m\u001b[38;5;241;43m.\u001b[39;49m\u001b[43mXPATH\u001b[49m\u001b[43m,\u001b[49m\u001b[38;5;124;43m'\u001b[39;49m\u001b[38;5;124;43m//span[@class=\u001b[39;49m\u001b[38;5;124;43m\"\u001b[39;49m\u001b[38;5;124;43msearch-icon icon\u001b[39;49m\u001b[38;5;124;43m\"\u001b[39;49m\u001b[38;5;124;43m]\u001b[39;49m\u001b[38;5;124;43m'\u001b[39;49m\u001b[43m)\u001b[49m\u001b[38;5;241m.\u001b[39mclick()\n\u001b[0;32m      4\u001b[0m \u001b[38;5;66;03m# Sending input London in search bar\u001b[39;00m\n\u001b[0;32m      5\u001b[0m Search\u001b[38;5;241m.\u001b[39msend_keys(\u001b[38;5;124m\"\u001b[39m\u001b[38;5;124mLondon\u001b[39m\u001b[38;5;124m\"\u001b[39m)\n",
      "File \u001b[1;32m~\\anaconda3\\lib\\site-packages\\selenium\\webdriver\\remote\\webdriver.py:831\u001b[0m, in \u001b[0;36mWebDriver.find_element\u001b[1;34m(self, by, value)\u001b[0m\n\u001b[0;32m    828\u001b[0m     by \u001b[38;5;241m=\u001b[39m By\u001b[38;5;241m.\u001b[39mCSS_SELECTOR\n\u001b[0;32m    829\u001b[0m     value \u001b[38;5;241m=\u001b[39m \u001b[38;5;124mf\u001b[39m\u001b[38;5;124m'\u001b[39m\u001b[38;5;124m[name=\u001b[39m\u001b[38;5;124m\"\u001b[39m\u001b[38;5;132;01m{\u001b[39;00mvalue\u001b[38;5;132;01m}\u001b[39;00m\u001b[38;5;124m\"\u001b[39m\u001b[38;5;124m]\u001b[39m\u001b[38;5;124m'\u001b[39m\n\u001b[1;32m--> 831\u001b[0m \u001b[38;5;28;01mreturn\u001b[39;00m \u001b[38;5;28;43mself\u001b[39;49m\u001b[38;5;241;43m.\u001b[39;49m\u001b[43mexecute\u001b[49m\u001b[43m(\u001b[49m\u001b[43mCommand\u001b[49m\u001b[38;5;241;43m.\u001b[39;49m\u001b[43mFIND_ELEMENT\u001b[49m\u001b[43m,\u001b[49m\u001b[43m \u001b[49m\u001b[43m{\u001b[49m\u001b[38;5;124;43m\"\u001b[39;49m\u001b[38;5;124;43musing\u001b[39;49m\u001b[38;5;124;43m\"\u001b[39;49m\u001b[43m:\u001b[49m\u001b[43m \u001b[49m\u001b[43mby\u001b[49m\u001b[43m,\u001b[49m\u001b[43m \u001b[49m\u001b[38;5;124;43m\"\u001b[39;49m\u001b[38;5;124;43mvalue\u001b[39;49m\u001b[38;5;124;43m\"\u001b[39;49m\u001b[43m:\u001b[49m\u001b[43m \u001b[49m\u001b[43mvalue\u001b[49m\u001b[43m}\u001b[49m\u001b[43m)\u001b[49m[\u001b[38;5;124m\"\u001b[39m\u001b[38;5;124mvalue\u001b[39m\u001b[38;5;124m\"\u001b[39m]\n",
      "File \u001b[1;32m~\\anaconda3\\lib\\site-packages\\selenium\\webdriver\\remote\\webdriver.py:440\u001b[0m, in \u001b[0;36mWebDriver.execute\u001b[1;34m(self, driver_command, params)\u001b[0m\n\u001b[0;32m    438\u001b[0m response \u001b[38;5;241m=\u001b[39m \u001b[38;5;28mself\u001b[39m\u001b[38;5;241m.\u001b[39mcommand_executor\u001b[38;5;241m.\u001b[39mexecute(driver_command, params)\n\u001b[0;32m    439\u001b[0m \u001b[38;5;28;01mif\u001b[39;00m response:\n\u001b[1;32m--> 440\u001b[0m     \u001b[38;5;28;43mself\u001b[39;49m\u001b[38;5;241;43m.\u001b[39;49m\u001b[43merror_handler\u001b[49m\u001b[38;5;241;43m.\u001b[39;49m\u001b[43mcheck_response\u001b[49m\u001b[43m(\u001b[49m\u001b[43mresponse\u001b[49m\u001b[43m)\u001b[49m\n\u001b[0;32m    441\u001b[0m     response[\u001b[38;5;124m\"\u001b[39m\u001b[38;5;124mvalue\u001b[39m\u001b[38;5;124m\"\u001b[39m] \u001b[38;5;241m=\u001b[39m \u001b[38;5;28mself\u001b[39m\u001b[38;5;241m.\u001b[39m_unwrap_value(response\u001b[38;5;241m.\u001b[39mget(\u001b[38;5;124m\"\u001b[39m\u001b[38;5;124mvalue\u001b[39m\u001b[38;5;124m\"\u001b[39m, \u001b[38;5;28;01mNone\u001b[39;00m))\n\u001b[0;32m    442\u001b[0m     \u001b[38;5;28;01mreturn\u001b[39;00m response\n",
      "File \u001b[1;32m~\\anaconda3\\lib\\site-packages\\selenium\\webdriver\\remote\\errorhandler.py:245\u001b[0m, in \u001b[0;36mErrorHandler.check_response\u001b[1;34m(self, response)\u001b[0m\n\u001b[0;32m    243\u001b[0m         alert_text \u001b[38;5;241m=\u001b[39m value[\u001b[38;5;124m\"\u001b[39m\u001b[38;5;124malert\u001b[39m\u001b[38;5;124m\"\u001b[39m]\u001b[38;5;241m.\u001b[39mget(\u001b[38;5;124m\"\u001b[39m\u001b[38;5;124mtext\u001b[39m\u001b[38;5;124m\"\u001b[39m)\n\u001b[0;32m    244\u001b[0m     \u001b[38;5;28;01mraise\u001b[39;00m exception_class(message, screen, stacktrace, alert_text)  \u001b[38;5;66;03m# type: ignore[call-arg]  # mypy is not smart enough here\u001b[39;00m\n\u001b[1;32m--> 245\u001b[0m \u001b[38;5;28;01mraise\u001b[39;00m exception_class(message, screen, stacktrace)\n",
      "\u001b[1;31mWebDriverException\u001b[0m: Message: disconnected: not connected to DevTools\n  (failed to check if window was closed: disconnected: not connected to DevTools)\n  (Session info: chrome=112.0.5615.138)\nStacktrace:\nBacktrace:\n\tGetHandleVerifier [0x005FDCE3+50899]\n\t(No symbol) [0x0058E111]\n\t(No symbol) [0x00495588]\n\t(No symbol) [0x00487CB6]\n\t(No symbol) [0x004879D9]\n\t(No symbol) [0x00496990]\n\t(No symbol) [0x004EDB9C]\n\t(No symbol) [0x004DB6F6]\n\t(No symbol) [0x004B7708]\n\t(No symbol) [0x004B886D]\n\tGetHandleVerifier [0x00863EAE+2566302]\n\tGetHandleVerifier [0x008992B1+2784417]\n\tGetHandleVerifier [0x0089327C+2759788]\n\tGetHandleVerifier [0x00695740+672048]\n\t(No symbol) [0x00598872]\n\t(No symbol) [0x005941C8]\n\t(No symbol) [0x005942AB]\n\t(No symbol) [0x005871B7]\n\tBaseThreadInitThunk [0x76E3FA29+25]\n\tRtlGetAppContainerNamedObjectPath [0x77597B5E+286]\n\tRtlGetAppContainerNamedObjectPath [0x77597B2E+238]\n"
     ]
    }
   ],
   "source": [
    "#locating the location search bar\n",
    "Search = driver.find_element(By.XPATH,'//span[@class=\"search-icon icon\"]')\n",
    "\n",
    "# Sending input London in search bar\n",
    "Search.send_keys(\"London\")\n",
    "time.sleep(1)\n"
   ]
  },
  {
   "cell_type": "code",
   "execution_count": null,
   "id": "82a7f8d6",
   "metadata": {},
   "outputs": [],
   "source": [
    "#lets find required data\n",
    "hostel_name = []\n",
    "distance = []\n",
    "pvt_prices = []\n",
    "dorms_price = []\n",
    "rating = []\n",
    "reviews = []\n",
    "over_all = []\n",
    "facilities = []\n",
    "description =[]\n",
    "product_url = []"
   ]
  }
 ],
 "metadata": {
  "kernelspec": {
   "display_name": "Python 3 (ipykernel)",
   "language": "python",
   "name": "python3"
  },
  "language_info": {
   "codemirror_mode": {
    "name": "ipython",
    "version": 3
   },
   "file_extension": ".py",
   "mimetype": "text/x-python",
   "name": "python",
   "nbconvert_exporter": "python",
   "pygments_lexer": "ipython3",
   "version": "3.10.9"
  }
 },
 "nbformat": 4,
 "nbformat_minor": 5
}
