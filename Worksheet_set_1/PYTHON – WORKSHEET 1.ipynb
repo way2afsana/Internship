{
 "cells": [
  {
   "cell_type": "markdown",
   "id": "072fe4cd",
   "metadata": {},
   "source": [
    "                             #PYTHON – WORKSHEET 1\n",
    "    \n",
    "Q1 to Q8 have only one correct answer. Choose the correct option to answer your question.\n",
    "\n",
    "1. Which of the following operators is used to calculate remainder in a division?\n",
    "A) # B) & \n",
    "C) % D) $\n",
    "#### Answer:(C)\n",
    "    \n",
    "\n",
    "2. In python 2//3 is equal to?\n",
    "A) 0.666 B) 0 \n",
    "C) 1 D) 0.67\n",
    "##### Answer:(B)\n",
    "    \n",
    "\n",
    "3. In python, 6<<2 is equal to?\n",
    "A) 36 B) 10\n",
    "C) 24 D) 45\n",
    "##### Answer:(C)\n",
    "\n",
    "    \n",
    "4. In python, 6&2 will give which of the following as output?\n",
    "A) 2 B) True\n",
    "C) False D) 0\n",
    "##### Answer:(A)\n",
    "\n",
    "    \n",
    "5. In python, 6|2 will give which of the following as output?\n",
    "A) 2 B) 4\n",
    "C) 0 D) 6\n",
    "##### Answer:(D)\n",
    "\n",
    "    \n",
    "6. What does the finally keyword denotes in python?\n",
    "A) It is used to mark the end of the code\n",
    "B) It encloses the lines of code which will be executed if any error occurs while executing the lines of code in\n",
    "the try block.\n",
    "C) the finally block will be executed no matter if the try block raises an error or not.\n",
    "D) None of the above\n",
    "##### Answer:(C)\n",
    "\n",
    "    \n",
    "7. What does raise keyword is used for in python?\n",
    "A) It is used to raise an exception. B) It is used to define lambda function\n",
    "C) it's not a keyword in python. D) None of the above\n",
    "##### Answer:(A)\n",
    "\n",
    "    \n",
    "8. Which of the following is a common use case of yield keyword in python?\n",
    "A) in defining an iterator B) while defining a lambda function\n",
    "C) in defining a generator D) in for loop.\n",
    "##### Answer:(A)\n",
    "\n",
    "    \n",
    "    \n",
    "Q9 and Q10 have multiple correct answers. Choose all the correct options to answer your question.\n",
    "\n",
    "9. Which of the following are the valid variable names?\n",
    "A) _abc B) 1abc\n",
    "C) abc2 D) None of the above\n",
    "##### Answer:(A) and (C)\n",
    "\n",
    "    \n",
    "10. Which of the following are the keywords in python?\n",
    "A) yield B) raise\n",
    "C) look-in D) all of the above\n",
    "##### Answer:(A) and (B)\n",
    "    \n"
   ]
  },
  {
   "cell_type": "markdown",
   "id": "34ff00bd",
   "metadata": {},
   "source": [
    "### 11. Write a python program to find the factorial of a number."
   ]
  },
  {
   "cell_type": "code",
   "execution_count": 2,
   "id": "1e85c01f",
   "metadata": {},
   "outputs": [
    {
     "name": "stdout",
     "output_type": "stream",
     "text": [
      "Enter the Number :50\n",
      "Factorial is the product of all positive integers less than or equal to that number\n",
      "The Factorial of 50 is 30414093201713378043612608166064768844377641568960512000000000000\n"
     ]
    }
   ],
   "source": [
    "# program to find the factorial of a number\n",
    "def factorial(num):\n",
    "    \n",
    "    print('Factorial is the product of all positive integers less than or equal to that number')\n",
    "    \n",
    "    fact =1\n",
    "   \n",
    "    if num >=1 :\n",
    "        for num in range (1, num+1):\n",
    "            fact = fact * num\n",
    "        print('The Factorial of', num, 'is',fact)\n",
    "    \n",
    "    elif num ==0 :\n",
    "        print(' The Factorial of 0 is 1')\n",
    "        \n",
    "    elif num < 0:\n",
    "        print('The Factorial of negative number doesnot exit')\n",
    "        \n",
    "num = int (input('Enter the Number :'))\n",
    "factorial(num)"
   ]
  },
  {
   "cell_type": "markdown",
   "id": "0968ed8f",
   "metadata": {},
   "source": [
    "#### Alternate method-> using factorial from Math libary (math.factorial())"
   ]
  },
  {
   "cell_type": "code",
   "execution_count": 3,
   "id": "a1690a00",
   "metadata": {},
   "outputs": [
    {
     "name": "stdout",
     "output_type": "stream",
     "text": [
      "Enter the Number :50\n",
      "Factorial of 50 is 30414093201713378043612608166064768844377641568960512000000000000\n"
     ]
    }
   ],
   "source": [
    "import math\n",
    "\n",
    "num = int (input('Enter the Number :'))\n",
    "print('Factorial of', num, 'is', math.factorial(num))"
   ]
  },
  {
   "cell_type": "markdown",
   "id": "0542ce1e",
   "metadata": {},
   "source": [
    "### 12. Write a python program to find whether a number is prime or composite."
   ]
  },
  {
   "cell_type": "code",
   "execution_count": 5,
   "id": "022e816d",
   "metadata": {},
   "outputs": [
    {
     "name": "stdout",
     "output_type": "stream",
     "text": [
      "Enter The Number:7\n",
      "7 is a Prime Number\n"
     ]
    }
   ],
   "source": [
    "num = int(input('Enter The Number:'))\n",
    "\n",
    "if num >1:\n",
    "    for i in range(2,int(num/2)+1):\n",
    "        if (num % i ==0):\n",
    "            print('The input number ', num, 'is not a Prime Number')\n",
    "            break\n",
    "    else:\n",
    "        print(num, 'is a Prime Number')\n",
    "        \n",
    "# 0 and 1 are not considered as prime numbers\n",
    "# Prime number exist only for positive whole number greater than 1. (prime number doesnot exist for negative number)\n",
    "\n",
    "else:\n",
    "    print(num, 'is not a Prime Number')"
   ]
  },
  {
   "cell_type": "markdown",
   "id": "b8c5791a",
   "metadata": {},
   "source": [
    "### 13. Write a python program to check whether a given string is palindrome or not"
   ]
  },
  {
   "cell_type": "code",
   "execution_count": 8,
   "id": "fcc17d9a",
   "metadata": {
    "scrolled": true
   },
   "outputs": [
    {
     "name": "stdout",
     "output_type": "stream",
     "text": [
      "Enter the string :Asik@$@kisA\n",
      "The input string is Palindrome\n"
     ]
    }
   ],
   "source": [
    "# Pallindrome is a sequence of letters,numbers or whole words that reads the same backwards as it does forwards \n",
    "\n",
    "Input_str = input('Enter the string :') \n",
    "\n",
    "def Palindrome(s):\n",
    "    return s == s[::-1]\n",
    "\n",
    "# check string is palindrome or not\n",
    "\n",
    "check = Palindrome(Input_str)\n",
    "\n",
    "if check:\n",
    "    print('The input string is Palindrome')\n",
    "    \n",
    "else:\n",
    "    print('The input string is not Palindrome')\n"
   ]
  },
  {
   "cell_type": "markdown",
   "id": "81bdce30",
   "metadata": {},
   "source": [
    "### 14. Write a Python program to get the third side of right-angled triangle from two given sides."
   ]
  },
  {
   "cell_type": "code",
   "execution_count": 10,
   "id": "a5460132",
   "metadata": {},
   "outputs": [
    {
     "name": "stdout",
     "output_type": "stream",
     "text": [
      "Opposite side denoted by x\n",
      "Adjacent side denoted by y\n",
      "Hypotenuse is denoted by z\n",
      "\n",
      "\n",
      "Which side (x,y,z) do you want to calculatez\n",
      "\n",
      "\n",
      "Input the length of side x: 9\n",
      "Input the length of side y: 12\n",
      "The length of Hypotenus(z) is 15: \n"
     ]
    }
   ],
   "source": [
    "import math\n",
    "# Printing notation of three side for user\n",
    "print('Opposite side denoted by x')\n",
    "print('Adjacent side denoted by y')\n",
    "print('Hypotenuse is denoted by z')\n",
    "print('\\n')\n",
    "\n",
    "# Taking input for user about which side need to be calculated\n",
    "choice = input('Which side (x,y,z) do you want to calculate')\n",
    "print('\\n')\n",
    "\n",
    "# Calculating remaining side of right angle triangle using if-else loop\n",
    "\n",
    "if choice == 'x':\n",
    "    y = float(input('Input the length of side y: '))\n",
    "    z = float(input('Input the length of side z: '))\n",
    "    x = math.sqrt((z * z) - (y * y))\n",
    "    print('The length of Opposite side(x) is %g: ' %(x))\n",
    "    \n",
    "elif choice =='y':\n",
    "    x = float(input('Input the length of side x: '))\n",
    "    z = float(input('Input the length of side z: '))\n",
    "    x = math.sqrt((z * z) - (x * x))\n",
    "    print('The length of Adajacent side(y) is %g: ' %(y))\n",
    "    \n",
    "elif choice == 'z':\n",
    "    x = float(input('Input the length of side x: '))\n",
    "    y = float(input('Input the length of side y: '))\n",
    "    z = math.sqrt((x * x) + (y * y))\n",
    "    print('The length of Hypotenus(z) is %g: ' %(z))\n",
    "\n",
    "else:\n",
    "    print('Invalid Entry :')\n",
    "    print('Choose & Enter correct side to be calculate out of x, y and z')"
   ]
  },
  {
   "cell_type": "markdown",
   "id": "638e5354",
   "metadata": {},
   "source": [
    "### 15. Write a python program to print the frequency of each of the characters present in a given string."
   ]
  },
  {
   "cell_type": "code",
   "execution_count": 15,
   "id": "ddeee570",
   "metadata": {},
   "outputs": [
    {
     "name": "stdout",
     "output_type": "stream",
     "text": [
      "Enter the input string:Welcome To jupyter\n",
      "\n",
      "\n",
      "Frequency of all characters in Input string:\n",
      " Counter({'e': 3, 'o': 2, ' ': 2, 't': 2, 'w': 1, 'l': 1, 'c': 1, 'm': 1, 'j': 1, 'u': 1, 'p': 1, 'y': 1, 'r': 1})\n"
     ]
    }
   ],
   "source": [
    "# using collections.Counter() to get frequency of each character in string\n",
    "from collections import Counter\n",
    "\n",
    "#casefold() is to ensure that uppercase and lower case charachter is treated same.\n",
    "Input_str = input('Enter the input string:').casefold()\n",
    "print('\\n')\n",
    "res = Counter(Input_str)\n",
    "print('Frequency of all characters in Input string:\\n',res)"
   ]
  },
  {
   "cell_type": "markdown",
   "id": "730c04a7",
   "metadata": {},
   "source": [
    "#### *---------------------------*------------------------------*-----------------------------*----------------------------*-----------------------*--------------------*----------------------*"
   ]
  }
 ],
 "metadata": {
  "kernelspec": {
   "display_name": "Python 3 (ipykernel)",
   "language": "python",
   "name": "python3"
  },
  "language_info": {
   "codemirror_mode": {
    "name": "ipython",
    "version": 3
   },
   "file_extension": ".py",
   "mimetype": "text/x-python",
   "name": "python",
   "nbconvert_exporter": "python",
   "pygments_lexer": "ipython3",
   "version": "3.10.9"
  }
 },
 "nbformat": 4,
 "nbformat_minor": 5
}
